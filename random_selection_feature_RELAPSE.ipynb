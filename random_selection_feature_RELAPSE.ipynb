{
 "cells": [
  {
   "cell_type": "code",
   "execution_count": 59,
   "metadata": {},
   "outputs": [],
   "source": [
    "from imblearn.over_sampling import RandomOverSampler, SMOTE\n",
    "import pandas as pd\n",
    "import numpy as np\n",
    "from sklearn.model_selection import train_test_split\n",
    "from sklearn.ensemble import RandomForestClassifier, RandomForestRegressor\n",
    "from sklearn.model_selection import GridSearchCV, RandomizedSearchCV\n",
    "import matplotlib.pyplot as plt\n",
    "from sklearn import metrics\n",
    "from sklearn.metrics import accuracy_score, confusion_matrix, roc_auc_score, roc_curve, auc, precision_recall_curve\n",
    "import scikitplot as skplt\n",
    "from sklearn.utils import resample\n",
    "from sklearn.ensemble import VotingClassifier"
   ]
  },
  {
   "cell_type": "code",
   "execution_count": 93,
   "metadata": {},
   "outputs": [],
   "source": [
    "d = pd.read_csv('/data/users/gb/Asan/survival/nanostring/Rawdata/tr-te-split/X_train_data_rpkm.csv',index_col=0)\n",
    "d_info = pd.read_csv('/data/users/gb/Asan/survival/nanostring/Rawdata/tr-te-split/Y_train_info_2.csv',index_col=0)\n",
    "d2 = pd.read_csv('/data/users/gb/Asan/survival/nanostring/Rawdata/tr-te-split/X_test_data_rpkm.csv',index_col=0)\n",
    "d2_info = pd.read_csv('/data/users/gb/Asan/survival/nanostring/Rawdata/tr-te-split/Y_test_info_2.csv',index_col=0)\n",
    "d3 = pd.read_csv('/data/users/gb/Asan/survival/nanostring/coef/elastic_coef_RELAPSE_02_gene.txt',index_col=0)"
   ]
  },
  {
   "cell_type": "code",
   "execution_count": null,
   "metadata": {},
   "outputs": [],
   "source": []
  },
  {
   "cell_type": "code",
   "execution_count": 94,
   "metadata": {},
   "outputs": [
    {
     "data": {
      "text/plain": [
       "(['CCL5',\n",
       "  'CCL7',\n",
       "  'TNFSF13B',\n",
       "  'CSF2RB',\n",
       "  'CLEC4E',\n",
       "  'CCL8',\n",
       "  'SELE',\n",
       "  'EDNRB',\n",
       "  'IL17B',\n",
       "  'IL2RA',\n",
       "  'FCER1A',\n",
       "  'TGFBI',\n",
       "  'GZMB'],\n",
       " Index(['KIT', 'IKBKB', 'MAPK1', 'IL17B', 'NOTCH2', 'C8G', 'CTNNB1', 'IL1RN',\n",
       "        'TAL1', 'CCL26', 'PSMB5', 'EDNRB', 'CISH', 'IRF3', 'NFKB1', 'IL19',\n",
       "        'EBI3', 'HLA.DQA1', 'CSF2', 'IL1R2', 'ITLN1', 'KLRC3', 'TNFRSF9',\n",
       "        'TNFSF11', 'IL26', 'DPP4', 'IL6', 'PDCD2', 'PTPN2', 'KIR3DL2', 'PTGER4',\n",
       "        'TNFSF13B', 'FCGR2A', 'sCTLA4', 'UBE2L3', 'IL27', 'GBP1', 'ITGA5',\n",
       "        'ARG2', 'JAK2', 'ATM', 'HLA.DMA', 'LTB4R', 'S100A9', 'NOD2', 'TGFB1',\n",
       "        'TAGAP', 'S1PR1', 'KLRG2', 'CXCL12', 'KCNJ2', 'TNFSF15', 'FCGR1A.B',\n",
       "        'LILRA4', 'RUNX1', 'LTB4R2', 'IL22', 'TFRC', 'C5', 'CEACAM6', 'MIF',\n",
       "        'IL18R1', 'CRADD', 'FCGRT', 'ITGB1', 'SIGIRR', 'PRKCD', 'PPBP', 'ATG7',\n",
       "        'IL3', 'CSF1', 'CD82', 'ABCB1', 'LILRA3', 'NCAM1', 'TNF', 'HLA.DRB3',\n",
       "        'MBP', 'JAK1', 'IL22RA2', 'IL2RA', 'TRAF1', 'FOXP3', 'ITGAM', 'RARRES3',\n",
       "        'IL13RA1', 'IFNA1.13', 'FCAR', 'SELE', 'CD81', 'CD97'],\n",
       "       dtype='object', name='gene'))"
      ]
     },
     "execution_count": 94,
     "metadata": {},
     "output_type": "execute_result"
    }
   ],
   "source": [
    "features = ['CCL5','CCL7','TNFSF13B','CSF2RB','CLEC4E','CCL8','SELE','EDNRB','IL17B','IL2RA','FCER1A','TGFBI','GZMB'] #RELAPSE\n",
    "features2 = d3.index\n",
    "features, features2"
   ]
  },
  {
   "cell_type": "code",
   "execution_count": null,
   "metadata": {},
   "outputs": [],
   "source": []
  },
  {
   "cell_type": "code",
   "execution_count": 95,
   "metadata": {},
   "outputs": [],
   "source": [
    "d_info_2 = d_info['RELAPSE']\n",
    "d2_info_2 = d2_info['RELAPSE']"
   ]
  },
  {
   "cell_type": "code",
   "execution_count": 97,
   "metadata": {},
   "outputs": [],
   "source": [
    "# oversampling\n",
    "X, Y = SMOTE(random_state=1000).fit_sample(d,d_info_2)\n",
    "X2, Y2 = SMOTE(random_state=1000,k_neighbors=3).fit_sample(d2,d2_info_2)"
   ]
  },
  {
   "cell_type": "code",
   "execution_count": 98,
   "metadata": {},
   "outputs": [],
   "source": [
    "X_over = pd.DataFrame(X,columns = d.columns)\n",
    "X_over2 = pd.DataFrame(X2,columns=d.columns)"
   ]
  },
  {
   "cell_type": "code",
   "execution_count": 99,
   "metadata": {},
   "outputs": [],
   "source": [
    "#ol = d_info['pCR']\n",
    "Y_over = pd.DataFrame(Y)\n",
    "Y_over.columns = ['RELAPSE']\n",
    "#ol2 = d_info['pCR']\n",
    "Y_over2 = pd.DataFrame(Y2)\n",
    "Y_over2.columns = ['RELAPSE']"
   ]
  },
  {
   "cell_type": "code",
   "execution_count": 100,
   "metadata": {},
   "outputs": [],
   "source": [
    "X_test = X_over2\n",
    "Y_test = Y_over2"
   ]
  },
  {
   "cell_type": "code",
   "execution_count": 102,
   "metadata": {},
   "outputs": [
    {
     "data": {
      "text/plain": [
       "44"
      ]
     },
     "execution_count": 102,
     "metadata": {},
     "output_type": "execute_result"
    }
   ],
   "source": [
    "len(X_over)"
   ]
  },
  {
   "cell_type": "code",
   "execution_count": 71,
   "metadata": {},
   "outputs": [],
   "source": [
    "clf = RandomForestClassifier()"
   ]
  },
  {
   "cell_type": "code",
   "execution_count": 72,
   "metadata": {},
   "outputs": [],
   "source": [
    "# Number of trees in random forest\n",
    "n_estimators = [int(x) for x in np.linspace(start = 1000, stop = 10000, num = 15)]\n",
    "#n_estimators=[1410,1620,1120,4860]\n",
    "#n_estimators=[300]\n",
    "# Number of features to consider at every split\n",
    "#max_features = ['log2']\n",
    "max_features = ['sqrt','log2',None]\n",
    "# Maximum number of levels in tree\n",
    "#max_depth = [int(x) for x in np.linspace(1, 10, num = 5)]\n",
    "max_depth = [1,3,5,10]\n",
    "#max_depth.append(None)\n",
    "# Minimum number of samples required to split a node\n",
    "min_samples_split = [2,5,7,10]#,6,7,8]\n",
    "# Minimum number of samples required at each leaf node\n",
    "min_samples_leaf = [1,3,5,10]#,6,7,8]\n",
    "#min_samples_leaf = range(5,10,1)\n",
    "# Method of selecting samples for training each tree\n",
    "bootstrap = [True, False]\n",
    "max_leaf_nodes = [10,20,30]\n",
    "criterion = [\"gini\", \"entropy\"]"
   ]
  },
  {
   "cell_type": "code",
   "execution_count": 73,
   "metadata": {},
   "outputs": [
    {
     "name": "stdout",
     "output_type": "stream",
     "text": [
      "{'n_estimators': [1000, 1642, 2285, 2928, 3571, 4214, 4857, 5500, 6142, 6785, 7428, 8071, 8714, 9357, 10000], 'max_features': ['sqrt', 'log2', None], 'max_depth': [1, 3, 5, 10], 'min_samples_split': [2, 5, 7, 10], 'min_samples_leaf': [1, 3, 5, 10], 'criterion': ['gini', 'entropy']}\n"
     ]
    }
   ],
   "source": [
    "# Create the random grid\n",
    "random_grid = {'n_estimators': n_estimators,                                                                          \n",
    "               'max_features' : max_features,               \n",
    "               'max_depth': max_depth,\n",
    "               'min_samples_split': min_samples_split,\n",
    "               'min_samples_leaf' : min_samples_leaf,\n",
    "               'criterion' : criterion\n",
    "               \n",
    "               \n",
    "              }\n",
    "print(random_grid)"
   ]
  },
  {
   "cell_type": "code",
   "execution_count": 81,
   "metadata": {},
   "outputs": [],
   "source": [
    "CV_random=GridSearchCV(estimator=clf,param_grid=random_grid,cv=10,n_jobs=-1)#,scoring='roc_auc')"
   ]
  },
  {
   "cell_type": "code",
   "execution_count": 82,
   "metadata": {},
   "outputs": [],
   "source": [
    "CV_random2=GridSearchCV(estimator=clf,param_grid=random_grid,cv=10,n_jobs=-1)#,scoring='roc_auc')"
   ]
  },
  {
   "cell_type": "code",
   "execution_count": null,
   "metadata": {},
   "outputs": [],
   "source": []
  },
  {
   "cell_type": "code",
   "execution_count": 84,
   "metadata": {},
   "outputs": [
    {
     "name": "stderr",
     "output_type": "stream",
     "text": [
      "/data/users/gb/anaconda3/lib/python3.7/site-packages/sklearn/model_selection/_search.py:813: DeprecationWarning: The default of the `iid` parameter will change from True to False in version 0.22 and will be removed in 0.24. This will change numeric results when test-set sizes are unequal.\n",
      "  DeprecationWarning)\n",
      "/data/users/gb/anaconda3/lib/python3.7/site-packages/sklearn/model_selection/_search.py:714: DataConversionWarning: A column-vector y was passed when a 1d array was expected. Please change the shape of y to (n_samples,), for example using ravel().\n",
      "  self.best_estimator_.fit(X, y, **fit_params)\n"
     ]
    },
    {
     "data": {
      "text/plain": [
       "GridSearchCV(cv=10, error_score='raise-deprecating',\n",
       "             estimator=RandomForestClassifier(bootstrap=True, class_weight=None,\n",
       "                                              criterion='gini', max_depth=None,\n",
       "                                              max_features='auto',\n",
       "                                              max_leaf_nodes=None,\n",
       "                                              min_impurity_decrease=0.0,\n",
       "                                              min_impurity_split=None,\n",
       "                                              min_samples_leaf=1,\n",
       "                                              min_samples_split=2,\n",
       "                                              min_weight_fraction_leaf=0.0,\n",
       "                                              n_estimators='warn', n_jobs=None,\n",
       "                                              oob_score=F...\n",
       "             iid='warn', n_jobs=-1,\n",
       "             param_grid={'criterion': ['gini', 'entropy'],\n",
       "                         'max_depth': [1, 3, 5, 10],\n",
       "                         'max_features': ['sqrt', 'log2', None],\n",
       "                         'min_samples_leaf': [1, 3, 5, 10],\n",
       "                         'min_samples_split': [2, 5, 7, 10],\n",
       "                         'n_estimators': [1000, 1642, 2285, 2928, 3571, 4214,\n",
       "                                          4857, 5500, 6142, 6785, 7428, 8071,\n",
       "                                          8714, 9357, 10000]},\n",
       "             pre_dispatch='2*n_jobs', refit=True, return_train_score=False,\n",
       "             scoring=None, verbose=0)"
      ]
     },
     "execution_count": 84,
     "metadata": {},
     "output_type": "execute_result"
    }
   ],
   "source": [
    "CV_random.fit(X_over[features],Y_over)"
   ]
  },
  {
   "cell_type": "code",
   "execution_count": 85,
   "metadata": {},
   "outputs": [
    {
     "name": "stderr",
     "output_type": "stream",
     "text": [
      "/data/users/gb/anaconda3/lib/python3.7/site-packages/sklearn/model_selection/_search.py:813: DeprecationWarning: The default of the `iid` parameter will change from True to False in version 0.22 and will be removed in 0.24. This will change numeric results when test-set sizes are unequal.\n",
      "  DeprecationWarning)\n",
      "/data/users/gb/anaconda3/lib/python3.7/site-packages/sklearn/model_selection/_search.py:714: DataConversionWarning: A column-vector y was passed when a 1d array was expected. Please change the shape of y to (n_samples,), for example using ravel().\n",
      "  self.best_estimator_.fit(X, y, **fit_params)\n"
     ]
    },
    {
     "data": {
      "text/plain": [
       "GridSearchCV(cv=10, error_score='raise-deprecating',\n",
       "             estimator=RandomForestClassifier(bootstrap=True, class_weight=None,\n",
       "                                              criterion='gini', max_depth=None,\n",
       "                                              max_features='auto',\n",
       "                                              max_leaf_nodes=None,\n",
       "                                              min_impurity_decrease=0.0,\n",
       "                                              min_impurity_split=None,\n",
       "                                              min_samples_leaf=1,\n",
       "                                              min_samples_split=2,\n",
       "                                              min_weight_fraction_leaf=0.0,\n",
       "                                              n_estimators='warn', n_jobs=None,\n",
       "                                              oob_score=F...\n",
       "             iid='warn', n_jobs=-1,\n",
       "             param_grid={'criterion': ['gini', 'entropy'],\n",
       "                         'max_depth': [1, 3, 5, 10],\n",
       "                         'max_features': ['sqrt', 'log2', None],\n",
       "                         'min_samples_leaf': [1, 3, 5, 10],\n",
       "                         'min_samples_split': [2, 5, 7, 10],\n",
       "                         'n_estimators': [1000, 1642, 2285, 2928, 3571, 4214,\n",
       "                                          4857, 5500, 6142, 6785, 7428, 8071,\n",
       "                                          8714, 9357, 10000]},\n",
       "             pre_dispatch='2*n_jobs', refit=True, return_train_score=False,\n",
       "             scoring=None, verbose=0)"
      ]
     },
     "execution_count": 85,
     "metadata": {},
     "output_type": "execute_result"
    }
   ],
   "source": [
    "CV_random2.fit(X_over[features2],Y_over)"
   ]
  },
  {
   "cell_type": "code",
   "execution_count": null,
   "metadata": {},
   "outputs": [],
   "source": []
  },
  {
   "cell_type": "code",
   "execution_count": 86,
   "metadata": {},
   "outputs": [],
   "source": [
    "L = CV_random.best_estimator_\n",
    "O=L.predict(X_test[features])"
   ]
  },
  {
   "cell_type": "code",
   "execution_count": 87,
   "metadata": {},
   "outputs": [],
   "source": [
    "L2 = CV_random2.best_estimator_\n",
    "O2=L2.predict(X_test[features2])"
   ]
  },
  {
   "cell_type": "code",
   "execution_count": null,
   "metadata": {},
   "outputs": [],
   "source": []
  },
  {
   "cell_type": "code",
   "execution_count": 88,
   "metadata": {
    "scrolled": true
   },
   "outputs": [
    {
     "data": {
      "image/png": "[encoded data removed]",
      "text/plain": [
       "<Figure size 432x288 with 2 Axes>"
      ]
     },
     "metadata": {
      "needs_background": "light"
     },
     "output_type": "display_data"
    }
   ],
   "source": [
    "#skplt.metrics.plot_confusion_matrix(Y_test,O)\n",
    "skplt.metrics.plot_confusion_matrix(Y_test,O)\n",
    "plt.show()"
   ]
  },
  {
   "cell_type": "code",
   "execution_count": 92,
   "metadata": {},
   "outputs": [
    {
     "data": {
      "image/png": "[encoded data removed]",
      "text/plain": [
       "<Figure size 432x288 with 2 Axes>"
      ]
     },
     "metadata": {
      "needs_background": "light"
     },
     "output_type": "display_data"
    }
   ],
   "source": [
    "#skplt.metrics.plot_confusion_matrix(Y_test,O)\n",
    "skplt.metrics.plot_confusion_matrix(Y_test,O2)\n",
    "plt.show()"
   ]
  },
  {
   "cell_type": "code",
   "execution_count": null,
   "metadata": {},
   "outputs": [],
   "source": []
  },
  {
   "cell_type": "code",
   "execution_count": 89,
   "metadata": {},
   "outputs": [],
   "source": [
    "pr = L.predict_proba(X_test[features])[:,1]\n",
    "fpr,tpr,threshold = metrics.roc_curve(Y_test,pr)\n",
    "roc_auc = metrics.auc(fpr,tpr)"
   ]
  },
  {
   "cell_type": "code",
   "execution_count": 90,
   "metadata": {},
   "outputs": [],
   "source": [
    "pr2 = L2.predict_proba(X_test[features2])[:,1]\n",
    "fpr2,tpr2,threshold = metrics.roc_curve(Y_test,pr2)\n",
    "roc_auc2 = metrics.auc(fpr2,tpr2)"
   ]
  },
  {
   "cell_type": "code",
   "execution_count": 91,
   "metadata": {},
   "outputs": [
    {
     "data": {
      "image/png": "[encoded data removed]",
      "text/plain": [
       "<Figure size 432x288 with 1 Axes>"
      ]
     },
     "metadata": {
      "needs_background": "light"
     },
     "output_type": "display_data"
    }
   ],
   "source": [
    "plt.title('Receiver Operating Characteristic')\n",
    "plt.plot(fpr, tpr, 'b',\n",
    "label='our model AUC = %0.2f'% roc_auc)\n",
    "plt.plot(fpr2, tpr2, 'g',\n",
    "label='EN model AUC = %0.2f'% roc_auc2)\n",
    "plt.legend(loc='lower right')\n",
    "plt.plot([0,1],[0,1],'r--')\n",
    "plt.xlim([-0.1,1.2])\n",
    "plt.ylim([-0.1,1.2])\n",
    "plt.ylabel('True Positive Rate')\n",
    "plt.xlabel('False Positive Rate')\n",
    "plt.show()"
   ]
  },
  {
   "cell_type": "code",
   "execution_count": null,
   "metadata": {},
   "outputs": [],
   "source": []
  },
  {
   "cell_type": "code",
   "execution_count": 22,
   "metadata": {},
   "outputs": [],
   "source": [
    "precision, recall, thresholds = precision_recall_curve(Y_test,pr)\n",
    "AP=metrics.average_precision_score(Y_test,pr)"
   ]
  },
  {
   "cell_type": "code",
   "execution_count": 23,
   "metadata": {},
   "outputs": [
    {
     "data": {
      "image/png": "[encoded data removed]",
      "text/plain": [
       "<Figure size 432x288 with 1 Axes>"
      ]
     },
     "metadata": {
      "needs_background": "light"
     },
     "output_type": "display_data"
    }
   ],
   "source": [
    "plt.step(recall, precision, color='b', alpha=0.2,\n",
    "         where='post')\n",
    "plt.fill_between(recall, precision, step='post', alpha=0.2,\n",
    "                 color='b')\n",
    "#plt.plot(recall/(recall+precision),'r--')\n",
    "plt.xlabel('Recall')\n",
    "plt.ylabel('Precision')\n",
    "plt.ylim([0.0, 1.0])\n",
    "plt.xlim([0.0, 1.0])\n",
    "plt.title('2-class Precision-Recall curve: AP={0:0.2f}'.format(\n",
    "          AP))\n",
    "plt.show()"
   ]
  },
  {
   "cell_type": "code",
   "execution_count": null,
   "metadata": {},
   "outputs": [],
   "source": []
  },
  {
   "cell_type": "code",
   "execution_count": 24,
   "metadata": {},
   "outputs": [
    {
     "data": {
      "image/png": "[encoded data removed]",
      "text/plain": [
       "<Figure size 864x576 with 1 Axes>"
      ]
     },
     "metadata": {
      "needs_background": "light"
     },
     "output_type": "display_data"
    }
   ],
   "source": [
    "imp_feat_rf = pd.Series(L.feature_importances_, index=features).sort_values(ascending=False)\n",
    "imp_feat_rf[:20].plot(kind='bar', title='Feature Importance with Random Forest', figsize=(12,8))\n",
    "plt.ylabel('Feature Importance values')\n",
    "plt.subplots_adjust(bottom=0.25)\n",
    "#plt.savefig('FeatImportance.png')\n",
    "plt.show()"
   ]
  },
  {
   "cell_type": "code",
   "execution_count": null,
   "metadata": {},
   "outputs": [],
   "source": [
    "    "
   ]
  },
  {
   "cell_type": "code",
   "execution_count": null,
   "metadata": {},
   "outputs": [],
   "source": []
  },
  {
   "cell_type": "markdown",
   "metadata": {},
   "source": [
    "## 무작위 추출 후 진행"
   ]
  },
  {
   "cell_type": "code",
   "execution_count": null,
   "metadata": {},
   "outputs": [],
   "source": []
  },
  {
   "cell_type": "code",
   "execution_count": 25,
   "metadata": {},
   "outputs": [],
   "source": [
    "f = open('/data/users/gb/Asan/survival/random_selection-feature/nano_random_feature_selection_results_RELAPSE_1000_smote_split_EN.txt','w')"
   ]
  },
  {
   "cell_type": "code",
   "execution_count": 26,
   "metadata": {},
   "outputs": [
    {
     "ename": "NameError",
     "evalue": "name 'X_train' is not defined",
     "output_type": "error",
     "traceback": [
      "\u001b[0;31m---------------------------------------------------------------------------\u001b[0m",
      "\u001b[0;31mNameError\u001b[0m                                 Traceback (most recent call last)",
      "\u001b[0;32m<ipython-input-26-bbcf5c2e6b0a>\u001b[0m in \u001b[0;36m<module>\u001b[0;34m\u001b[0m\n\u001b[1;32m      4\u001b[0m     \u001b[0;31m#CV_random.fit(X_over[features],Y_over)\u001b[0m\u001b[0;34m\u001b[0m\u001b[0;34m\u001b[0m\u001b[0;34m\u001b[0m\u001b[0m\n\u001b[1;32m      5\u001b[0m     \u001b[0mL\u001b[0m \u001b[0;34m=\u001b[0m \u001b[0mCV_random\u001b[0m\u001b[0;34m.\u001b[0m\u001b[0mbest_estimator_\u001b[0m\u001b[0;34m\u001b[0m\u001b[0;34m\u001b[0m\u001b[0m\n\u001b[0;32m----> 6\u001b[0;31m     \u001b[0mL\u001b[0m\u001b[0;34m.\u001b[0m\u001b[0mfit\u001b[0m\u001b[0;34m(\u001b[0m\u001b[0mX_train\u001b[0m\u001b[0;34m[\u001b[0m\u001b[0mfeatures\u001b[0m\u001b[0;34m]\u001b[0m\u001b[0;34m,\u001b[0m\u001b[0mY_train\u001b[0m\u001b[0;34m)\u001b[0m\u001b[0;34m\u001b[0m\u001b[0;34m\u001b[0m\u001b[0m\n\u001b[0m\u001b[1;32m      7\u001b[0m     \u001b[0mO\u001b[0m \u001b[0;34m=\u001b[0m \u001b[0mL\u001b[0m\u001b[0;34m.\u001b[0m\u001b[0mpredict\u001b[0m\u001b[0;34m(\u001b[0m\u001b[0mX_test\u001b[0m\u001b[0;34m[\u001b[0m\u001b[0mfeatures\u001b[0m\u001b[0;34m]\u001b[0m\u001b[0;34m)\u001b[0m\u001b[0;34m\u001b[0m\u001b[0;34m\u001b[0m\u001b[0m\n\u001b[1;32m      8\u001b[0m     \u001b[0mcm\u001b[0m \u001b[0;34m=\u001b[0m \u001b[0mmetrics\u001b[0m\u001b[0;34m.\u001b[0m\u001b[0mconfusion_matrix\u001b[0m\u001b[0;34m(\u001b[0m\u001b[0mY_test\u001b[0m\u001b[0;34m,\u001b[0m\u001b[0mO\u001b[0m\u001b[0;34m)\u001b[0m\u001b[0;34m\u001b[0m\u001b[0;34m\u001b[0m\u001b[0m\n",
      "\u001b[0;31mNameError\u001b[0m: name 'X_train' is not defined"
     ]
    }
   ],
   "source": [
    "for i in range(1000) :  # RELAPSE 경우\n",
    "    o = []    \n",
    "    features = np.random.choice(d2.columns,13,replace = False) \n",
    "    #CV_random.fit(X_over[features],Y_over)    \n",
    "    L = CV_random.best_estimator_\n",
    "    L.fit(X_train[features],Y_train)\n",
    "    O = L.predict(X_test[features])    \n",
    "    cm = metrics.confusion_matrix(Y_test,O)\n",
    "    pr = L.predict_proba(X_test[features])[:,1] \n",
    "    fpr,tpr,threshold = metrics.roc_curve(Y_test,pr)    \n",
    "    roc_auc = metrics.auc(fpr,tpr)    \n",
    "    precision, recall, thresholds = precision_recall_curve(Y_test,pr)    \n",
    "    AP = metrics.average_precision_score(Y_test,pr) \n",
    "    \n",
    "    #o.append([\"feature =\",features,\"AUC =\",str(roc_auc),'AP =',str(AP), 'PPV =', str(cm[1,1]/(cm[1,0]+cm[1,1])) ]) # pCR    \n",
    "    o.append([\"feature =\",features,\"AUC =\",str(roc_auc),'AP =',str(AP), 'PPV =', str(cm[0,0]/(cm[0,0]+cm[0,1])) ]) # relaspe\n",
    "    f.write(str(o) + '\\n')"
   ]
  },
  {
   "cell_type": "code",
   "execution_count": null,
   "metadata": {
    "scrolled": true
   },
   "outputs": [],
   "source": [
    "f.close()"
   ]
  },
  {
   "cell_type": "code",
   "execution_count": null,
   "metadata": {},
   "outputs": [],
   "source": []
  },
  {
   "cell_type": "code",
   "execution_count": null,
   "metadata": {},
   "outputs": [],
   "source": []
  },
  {
   "cell_type": "code",
   "execution_count": null,
   "metadata": {},
   "outputs": [],
   "source": []
  },
  {
   "cell_type": "code",
   "execution_count": null,
   "metadata": {},
   "outputs": [],
   "source": []
  },
  {
   "cell_type": "code",
   "execution_count": 25,
   "metadata": {},
   "outputs": [],
   "source": [
    "import os\n",
    "from sklearn.tree import export_graphviz\n",
    "import six\n",
    "import pydot\n",
    "from sklearn import tree"
   ]
  },
  {
   "cell_type": "code",
   "execution_count": 26,
   "metadata": {},
   "outputs": [],
   "source": [
    "dotfile = six.StringIO()\n",
    "i_tree = 0\n",
    "col = features"
   ]
  },
  {
   "cell_type": "code",
   "execution_count": 29,
   "metadata": {},
   "outputs": [],
   "source": [
    "for tree_in_forest in L.estimators_:\n",
    "    export_graphviz(tree_in_forest,out_file='/data/users/gb/Asan/survival/tree_plot/RELAPSE/nano_RELAPSE_tree.dot',\n",
    "                    feature_names=col,\n",
    "                    filled=True,\n",
    "                    rounded=True)\n",
    "    \n",
    "    (graph,) = pydot.graph_from_dot_file('/data/users/gb/Asan/survival/tree_plot/RELAPSE/nano_RELAPSE_tree.dot')\n",
    "    \n",
    "    name = '/data/users/gb/Asan/survival/tree_plot/RELAPSE/nano_RELAPSE_tree' + str(i_tree)\n",
    "    graph.write_png(name+  '.png')\n",
    "    os.system('dot -Tpng tree.dot -o tree.png')\n",
    "    i_tree +=1"
   ]
  }
 ],
 "metadata": {
  "kernelspec": {
   "display_name": "Python 3",
   "language": "python",
   "name": "python3"
  },
  "language_info": {
   "codemirror_mode": {
    "name": "ipython",
    "version": 3
   },
   "file_extension": ".py",
   "mimetype": "text/x-python",
   "name": "python",
   "nbconvert_exporter": "python",
   "pygments_lexer": "ipython3",
   "version": "3.7.3"
  }
 },
 "nbformat": 4,
 "nbformat_minor": 2
}
