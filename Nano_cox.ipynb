{
 "cells": [
  {
   "cell_type": "markdown",
   "metadata": {},
   "source": [
    "## Nanostring"
   ]
  },
  {
   "cell_type": "code",
   "execution_count": null,
   "metadata": {},
   "outputs": [],
   "source": [
    "library(survival)"
   ]
  },
  {
   "cell_type": "code",
   "execution_count": null,
   "metadata": {},
   "outputs": [],
   "source": [
    "j <- read.csv('/data/users/gb/Asan/survival/nanostring/Rawdata/nano_log_value.csv',header = T)\n",
    "j2 <- read.csv('/data//users/gb/Asan/survival/nanostring/Nanostring_all_2.csv')"
   ]
  },
  {
   "cell_type": "code",
   "execution_count": 41,
   "metadata": {},
   "outputs": [],
   "source": [
    "j <- j[-1]\n",
    "rownames(j) <- 1:55"
   ]
  },
  {
   "cell_type": "code",
   "execution_count": 42,
   "metadata": {},
   "outputs": [],
   "source": [
    "j$time <- j2$year_time\n",
    "j$RELAPSE <- j2$RELAPSE\n",
    "j$pCR <- j2$pCR\n",
    "j$DEATH <- j2$DEATH"
   ]
  },
  {
   "cell_type": "code",
   "execution_count": 69,
   "metadata": {},
   "outputs": [],
   "source": [
    "u <-c('BCL2','C4BPA','CCL5','CCL20','CCL7','CSF2RB','MARCO','VCAM1','DEATH','time') "
   ]
  },
  {
   "cell_type": "code",
   "execution_count": 107,
   "metadata": {},
   "outputs": [
    {
     "data": {
      "text/html": [
       "<table>\n",
       "<caption>A data.frame: 6 × 75</caption>\n",
       "<thead>\n",
       "\t<tr><th scope=col>PDCD2</th><th scope=col>CCL5</th><th scope=col>LY96</th><th scope=col>CXCR4</th><th scope=col>FCGRT</th><th scope=col>PPBP</th><th scope=col>PTPN2</th><th scope=col>IL1RL2</th><th scope=col>LGALS3</th><th scope=col>KIT</th><th scope=col>⋯</th><th scope=col>NFKB1</th><th scope=col>CD24</th><th scope=col>CD74</th><th scope=col>STAT2</th><th scope=col>SMAD5</th><th scope=col>RAG1</th><th scope=col>IL2RA</th><th scope=col>POU2F2</th><th scope=col>DEATH</th><th scope=col>time</th></tr>\n",
       "\t<tr><th scope=col>&lt;dbl&gt;</th><th scope=col>&lt;dbl&gt;</th><th scope=col>&lt;dbl&gt;</th><th scope=col>&lt;dbl&gt;</th><th scope=col>&lt;dbl&gt;</th><th scope=col>&lt;dbl&gt;</th><th scope=col>&lt;dbl&gt;</th><th scope=col>&lt;dbl&gt;</th><th scope=col>&lt;dbl&gt;</th><th scope=col>&lt;dbl&gt;</th><th scope=col>⋯</th><th scope=col>&lt;dbl&gt;</th><th scope=col>&lt;dbl&gt;</th><th scope=col>&lt;dbl&gt;</th><th scope=col>&lt;dbl&gt;</th><th scope=col>&lt;dbl&gt;</th><th scope=col>&lt;dbl&gt;</th><th scope=col>&lt;dbl&gt;</th><th scope=col>&lt;dbl&gt;</th><th scope=col>&lt;int&gt;</th><th scope=col>&lt;dbl&gt;</th></tr>\n",
       "</thead>\n",
       "<tbody>\n",
       "\t<tr><td>5.383853</td><td> 9.445557</td><td>7.295345</td><td> 9.560199</td><td>10.259659</td><td>3.746527</td><td>7.734727</td><td>4.330869</td><td> 9.675090</td><td>5.891058</td><td>⋯</td><td>6.828682</td><td>12.53711</td><td>13.96763</td><td> 9.983145</td><td>7.191648</td><td>3.836403</td><td> 6.355645</td><td>6.371469</td><td>0</td><td>7.694167</td></tr>\n",
       "\t<tr><td>5.961291</td><td>13.628425</td><td>7.000270</td><td>10.595083</td><td> 9.744708</td><td>3.760086</td><td>8.235315</td><td>3.984216</td><td> 8.787998</td><td>6.388323</td><td>⋯</td><td>7.851195</td><td>13.15846</td><td>13.25495</td><td>10.237168</td><td>7.418461</td><td>4.492445</td><td>10.642732</td><td>6.266411</td><td>0</td><td>7.597500</td></tr>\n",
       "\t<tr><td>7.761137</td><td> 9.589982</td><td>7.123196</td><td> 9.458823</td><td> 9.861965</td><td>4.829851</td><td>8.717615</td><td>4.521546</td><td>10.088880</td><td>5.928495</td><td>⋯</td><td>6.962516</td><td>13.69958</td><td>13.78413</td><td>10.011721</td><td>8.084156</td><td>4.673762</td><td> 7.950796</td><td>6.555815</td><td>0</td><td>6.600000</td></tr>\n",
       "\t<tr><td>5.789617</td><td>11.387475</td><td>8.163480</td><td> 9.264026</td><td>10.526540</td><td>4.377059</td><td>7.771691</td><td>4.512808</td><td> 9.614217</td><td>6.316640</td><td>⋯</td><td>6.873444</td><td>12.12677</td><td>14.23266</td><td>10.640004</td><td>6.979052</td><td>3.204238</td><td> 6.426482</td><td>6.968017</td><td>0</td><td>6.555833</td></tr>\n",
       "\t<tr><td>6.064914</td><td>10.920397</td><td>7.624080</td><td> 9.345298</td><td> 9.829867</td><td>3.539603</td><td>8.193471</td><td>4.885298</td><td>10.337365</td><td>5.643496</td><td>⋯</td><td>6.913199</td><td>12.36682</td><td>14.04184</td><td>10.470357</td><td>7.111907</td><td>4.011922</td><td> 7.122093</td><td>6.391519</td><td>0</td><td>6.330833</td></tr>\n",
       "\t<tr><td>6.443559</td><td> 9.606598</td><td>7.319582</td><td> 9.949535</td><td>10.194949</td><td>3.524364</td><td>8.014685</td><td>4.767189</td><td> 9.913355</td><td>8.036914</td><td>⋯</td><td>7.222435</td><td>13.04158</td><td>13.44011</td><td>10.349292</td><td>7.667602</td><td>3.837505</td><td> 5.494632</td><td>6.556189</td><td>0</td><td>5.847500</td></tr>\n",
       "</tbody>\n",
       "</table>\n"
      ],
      "text/latex": [
       "A data.frame: 6 × 75\n",
       "\\begin{tabular}{r|lllllllllllllllllllllllllllllllllllllllllllllllllllllllllllllllllllllllllll}\n",
       " PDCD2 & CCL5 & LY96 & CXCR4 & FCGRT & PPBP & PTPN2 & IL1RL2 & LGALS3 & KIT & FCAR & IL13RA1 & BST1 & HLA.DMB & LILRB3 & AHR & STAT6 & BLNK & CFD & CD7 & C4BPA & GNLY & TAGAP & CTNNB1 & C6 & IL17A & CD81 & PTGER4 & IFNGR1 & XCL1 & TRAF1 & BCL10 & CEACAM6 & TNFSF11 & TNFRSF13B & PTAFR & IL18RAP & FCGR2A & MAPKAPK2 & TNF & MCL1 & NCAM1 & LILRA2 & LILRA1 & ARG2 & HLA.DRB3 & CSF2RB & C1QA & CCL2 & PSMC2 & EGR2 & KIR\\_Activating\\_Subgroup\\_1 & GATA3 & CR1 & MARCO & TOLLIP & KLRG1 & IFNA2 & HFE & CD40 & APP & BAX & IL10RA & HLA.DPA1 & CEBPB & NFKB1 & CD24 & CD74 & STAT2 & SMAD5 & RAG1 & IL2RA & POU2F2 & DEATH & time\\\\\n",
       " <dbl> & <dbl> & <dbl> & <dbl> & <dbl> & <dbl> & <dbl> & <dbl> & <dbl> & <dbl> & <dbl> & <dbl> & <dbl> & <dbl> & <dbl> & <dbl> & <dbl> & <dbl> & <dbl> & <dbl> & <dbl> & <dbl> & <dbl> & <dbl> & <dbl> & <dbl> & <dbl> & <dbl> & <dbl> & <dbl> & <dbl> & <dbl> & <dbl> & <dbl> & <dbl> & <dbl> & <dbl> & <dbl> & <dbl> & <dbl> & <dbl> & <dbl> & <dbl> & <dbl> & <dbl> & <dbl> & <dbl> & <dbl> & <dbl> & <dbl> & <dbl> & <dbl> & <dbl> & <dbl> & <dbl> & <dbl> & <dbl> & <dbl> & <dbl> & <dbl> & <dbl> & <dbl> & <dbl> & <dbl> & <dbl> & <dbl> & <dbl> & <dbl> & <dbl> & <dbl> & <dbl> & <dbl> & <dbl> & <int> & <dbl>\\\\\n",
       "\\hline\n",
       "\t 5.383853 &  9.445557 & 7.295345 &  9.560199 & 10.259659 & 3.746527 & 7.734727 & 4.330869 &  9.675090 & 5.891058 & 3.567910 & 9.134547 & 6.134273 & 9.093346 & 6.359204 & 9.020746 &  9.711553 & 5.495940 & 8.047929 & 6.942502 & 3.747709 & 7.515392 & 7.413248 & 10.54962 & 5.273213 & 2.9270824 & 11.57001 & 6.910955 & 8.851092 & 4.560294 & 7.469360 & 8.157922 & 6.622569 & 2.554546 & 5.681728 & 7.833717 & 5.475487 & 8.740132 & 8.717491 & 7.839061 & 11.05339 & 5.871185 & 4.502836 & 4.072040 & 3.916405 & 11.78700 &  8.995074 &  9.822126 &  8.153641 & 8.814136 & 6.218074 & 4.066920 & 4.648066 & 7.091035 &  7.454881 & 7.774029 & 5.067965 & 3.340958 & 4.200774 & 7.993269 & 11.40920 & 8.808824 & 8.781978 & 11.096373 &  9.673636 & 6.828682 & 12.53711 & 13.96763 &  9.983145 & 7.191648 & 3.836403 &  6.355645 & 6.371469 & 0 & 7.694167\\\\\n",
       "\t 5.961291 & 13.628425 & 7.000270 & 10.595083 &  9.744708 & 3.760086 & 8.235315 & 3.984216 &  8.787998 & 6.388323 & 3.623300 & 8.877470 & 6.932882 & 7.887974 & 6.568906 & 9.833285 & 10.275858 & 5.907038 & 5.934287 & 6.328684 & 3.345676 & 7.437466 & 6.961487 & 10.95212 & 3.877718 & 0.1172608 & 12.00278 & 8.127234 & 9.688241 & 3.175788 & 9.048831 & 8.925122 & 3.180779 & 3.341209 & 5.127594 & 8.714619 & 4.983144 & 8.809764 & 9.278267 & 9.956908 & 11.19320 & 5.086973 & 4.979829 & 3.633627 & 3.498626 & 11.66545 & 12.878553 &  8.390145 & 10.509853 & 9.748347 & 5.465052 & 4.423187 & 5.958426 & 7.109389 & 10.956009 & 8.031675 & 4.178118 & 2.976818 & 4.266689 & 9.970543 & 11.16577 & 9.314831 & 8.533479 &  9.737163 & 10.260004 & 7.851195 & 13.15846 & 13.25495 & 10.237168 & 7.418461 & 4.492445 & 10.642732 & 6.266411 & 0 & 7.597500\\\\\n",
       "\t 7.761137 &  9.589982 & 7.123196 &  9.458823 &  9.861965 & 4.829851 & 8.717615 & 4.521546 & 10.088880 & 5.928495 & 3.486755 & 9.071158 & 6.682090 & 9.039306 & 6.021427 & 8.768981 &  9.825308 & 7.297702 & 5.492134 & 6.416856 & 3.689017 & 7.526972 & 7.468342 & 11.39671 & 4.608404 & 3.6499652 & 12.12331 & 6.747011 & 9.308056 & 4.506002 & 6.877290 & 8.815365 & 3.711896 & 3.096471 & 4.608827 & 7.571221 & 5.276125 & 8.874907 & 8.977986 & 6.668647 & 11.41967 & 5.490693 & 4.426051 & 5.141942 & 5.410922 & 11.85601 &  8.301794 & 10.208799 &  8.806223 & 9.600273 & 6.779115 & 4.975464 & 6.112285 & 6.060711 &  5.826568 & 8.587001 & 4.847431 & 3.810310 & 5.334539 & 7.678310 & 11.84862 & 9.741445 & 8.589107 & 11.113834 & 10.385394 & 6.962516 & 13.69958 & 13.78413 & 10.011721 & 8.084156 & 4.673762 &  7.950796 & 6.555815 & 0 & 6.600000\\\\\n",
       "\t 5.789617 & 11.387475 & 8.163480 &  9.264026 & 10.526540 & 4.377059 & 7.771691 & 4.512808 &  9.614217 & 6.316640 & 2.726444 & 8.552813 & 6.656353 & 9.526711 & 6.481401 & 9.094609 &  9.853329 & 6.412685 & 7.579579 & 6.916940 & 3.202366 & 9.024579 & 8.405047 & 10.30461 & 3.754729 & 2.1347727 & 11.63667 & 7.432355 & 9.284192 & 3.115559 & 7.334251 & 8.326048 & 3.558630 & 3.529273 & 5.193787 & 8.141108 & 5.934691 & 9.476530 & 8.586009 & 7.370505 & 10.93637 & 4.526609 & 4.370305 & 4.036552 & 3.639382 & 12.15888 &  9.728849 & 11.141642 & 10.245950 & 9.203878 & 6.288524 & 4.797060 & 5.130625 & 6.821543 &  8.609222 & 7.326691 & 4.924657 & 2.591112 & 4.724413 & 8.702405 & 11.33496 & 9.136830 & 9.379211 & 11.314318 &  9.706116 & 6.873444 & 12.12677 & 14.23266 & 10.640004 & 6.979052 & 3.204238 &  6.426482 & 6.968017 & 0 & 6.555833\\\\\n",
       "\t 6.064914 & 10.920397 & 7.624080 &  9.345298 &  9.829867 & 3.539603 & 8.193471 & 4.885298 & 10.337365 & 5.643496 & 2.652126 & 9.025397 & 6.720031 & 9.280705 & 6.362030 & 9.210576 &  9.585395 & 6.122302 & 5.923893 & 6.436833 & 3.008235 & 7.778545 & 7.755086 & 10.65562 & 3.837995 & 2.6529592 & 11.46891 & 7.065116 & 9.399715 & 3.841418 & 7.093647 & 8.390212 & 5.120372 & 3.428271 & 4.086490 & 8.193853 & 5.332008 & 9.810196 & 8.709112 & 6.923256 & 11.23317 & 4.590215 & 4.299554 & 3.648003 & 1.423351 & 12.28151 &  9.236472 & 10.484822 &  9.876119 & 9.380564 & 6.312894 & 3.925880 & 4.479901 & 6.859226 &  9.198518 & 7.286957 & 5.125002 & 2.427466 & 5.297946 & 8.245398 & 11.09988 & 9.057183 & 8.909906 & 11.307163 &  9.849530 & 6.913199 & 12.36682 & 14.04184 & 10.470357 & 7.111907 & 4.011922 &  7.122093 & 6.391519 & 0 & 6.330833\\\\\n",
       "\t 6.443559 &  9.606598 & 7.319582 &  9.949535 & 10.194949 & 3.524364 & 8.014685 & 4.767189 &  9.913355 & 8.036914 & 3.487086 & 9.622010 & 6.089743 & 9.007468 & 5.234977 & 9.048204 &  9.930418 & 6.119563 & 5.183432 & 6.836776 & 4.318593 & 8.037683 & 7.868158 & 12.58357 & 4.840750 & 3.0755247 & 11.23244 & 7.237144 & 9.044205 & 3.973092 & 7.394555 & 9.093996 & 4.864754 & 3.823246 & 5.321666 & 6.998668 & 5.222524 & 8.315084 & 8.340972 & 6.998525 & 11.80837 & 6.340328 & 4.108122 & 4.414937 & 3.115118 & 11.76650 &  8.643715 &  9.509191 &  9.101848 & 9.611415 & 7.528775 & 5.100033 & 6.384116 & 6.264726 &  5.898976 & 7.981319 & 5.975536 & 3.810643 & 5.654445 & 8.414647 & 11.45807 & 9.162072 & 8.852301 & 10.612110 &  9.690246 & 7.222435 & 13.04158 & 13.44011 & 10.349292 & 7.667602 & 3.837505 &  5.494632 & 6.556189 & 0 & 5.847500\\\\\n",
       "\\end{tabular}\n"
      ],
      "text/markdown": [
       "\n",
       "A data.frame: 6 × 75\n",
       "\n",
       "| PDCD2 &lt;dbl&gt; | CCL5 &lt;dbl&gt; | LY96 &lt;dbl&gt; | CXCR4 &lt;dbl&gt; | FCGRT &lt;dbl&gt; | PPBP &lt;dbl&gt; | PTPN2 &lt;dbl&gt; | IL1RL2 &lt;dbl&gt; | LGALS3 &lt;dbl&gt; | KIT &lt;dbl&gt; | ⋯ ⋯ | NFKB1 &lt;dbl&gt; | CD24 &lt;dbl&gt; | CD74 &lt;dbl&gt; | STAT2 &lt;dbl&gt; | SMAD5 &lt;dbl&gt; | RAG1 &lt;dbl&gt; | IL2RA &lt;dbl&gt; | POU2F2 &lt;dbl&gt; | DEATH &lt;int&gt; | time &lt;dbl&gt; |\n",
       "|---|---|---|---|---|---|---|---|---|---|---|---|---|---|---|---|---|---|---|---|---|\n",
       "| 5.383853 |  9.445557 | 7.295345 |  9.560199 | 10.259659 | 3.746527 | 7.734727 | 4.330869 |  9.675090 | 5.891058 | ⋯ | 6.828682 | 12.53711 | 13.96763 |  9.983145 | 7.191648 | 3.836403 |  6.355645 | 6.371469 | 0 | 7.694167 |\n",
       "| 5.961291 | 13.628425 | 7.000270 | 10.595083 |  9.744708 | 3.760086 | 8.235315 | 3.984216 |  8.787998 | 6.388323 | ⋯ | 7.851195 | 13.15846 | 13.25495 | 10.237168 | 7.418461 | 4.492445 | 10.642732 | 6.266411 | 0 | 7.597500 |\n",
       "| 7.761137 |  9.589982 | 7.123196 |  9.458823 |  9.861965 | 4.829851 | 8.717615 | 4.521546 | 10.088880 | 5.928495 | ⋯ | 6.962516 | 13.69958 | 13.78413 | 10.011721 | 8.084156 | 4.673762 |  7.950796 | 6.555815 | 0 | 6.600000 |\n",
       "| 5.789617 | 11.387475 | 8.163480 |  9.264026 | 10.526540 | 4.377059 | 7.771691 | 4.512808 |  9.614217 | 6.316640 | ⋯ | 6.873444 | 12.12677 | 14.23266 | 10.640004 | 6.979052 | 3.204238 |  6.426482 | 6.968017 | 0 | 6.555833 |\n",
       "| 6.064914 | 10.920397 | 7.624080 |  9.345298 |  9.829867 | 3.539603 | 8.193471 | 4.885298 | 10.337365 | 5.643496 | ⋯ | 6.913199 | 12.36682 | 14.04184 | 10.470357 | 7.111907 | 4.011922 |  7.122093 | 6.391519 | 0 | 6.330833 |\n",
       "| 6.443559 |  9.606598 | 7.319582 |  9.949535 | 10.194949 | 3.524364 | 8.014685 | 4.767189 |  9.913355 | 8.036914 | ⋯ | 7.222435 | 13.04158 | 13.44011 | 10.349292 | 7.667602 | 3.837505 |  5.494632 | 6.556189 | 0 | 5.847500 |\n",
       "\n"
      ],
      "text/plain": [
       "  PDCD2    CCL5      LY96     CXCR4     FCGRT     PPBP     PTPN2    IL1RL2  \n",
       "1 5.383853  9.445557 7.295345  9.560199 10.259659 3.746527 7.734727 4.330869\n",
       "2 5.961291 13.628425 7.000270 10.595083  9.744708 3.760086 8.235315 3.984216\n",
       "3 7.761137  9.589982 7.123196  9.458823  9.861965 4.829851 8.717615 4.521546\n",
       "4 5.789617 11.387475 8.163480  9.264026 10.526540 4.377059 7.771691 4.512808\n",
       "5 6.064914 10.920397 7.624080  9.345298  9.829867 3.539603 8.193471 4.885298\n",
       "6 6.443559  9.606598 7.319582  9.949535 10.194949 3.524364 8.014685 4.767189\n",
       "  LGALS3    KIT      ⋯ NFKB1    CD24     CD74     STAT2     SMAD5    RAG1    \n",
       "1  9.675090 5.891058 ⋯ 6.828682 12.53711 13.96763  9.983145 7.191648 3.836403\n",
       "2  8.787998 6.388323 ⋯ 7.851195 13.15846 13.25495 10.237168 7.418461 4.492445\n",
       "3 10.088880 5.928495 ⋯ 6.962516 13.69958 13.78413 10.011721 8.084156 4.673762\n",
       "4  9.614217 6.316640 ⋯ 6.873444 12.12677 14.23266 10.640004 6.979052 3.204238\n",
       "5 10.337365 5.643496 ⋯ 6.913199 12.36682 14.04184 10.470357 7.111907 4.011922\n",
       "6  9.913355 8.036914 ⋯ 7.222435 13.04158 13.44011 10.349292 7.667602 3.837505\n",
       "  IL2RA     POU2F2   DEATH time    \n",
       "1  6.355645 6.371469 0     7.694167\n",
       "2 10.642732 6.266411 0     7.597500\n",
       "3  7.950796 6.555815 0     6.600000\n",
       "4  6.426482 6.968017 0     6.555833\n",
       "5  7.122093 6.391519 0     6.330833\n",
       "6  5.494632 6.556189 0     5.847500"
      ]
     },
     "metadata": {},
     "output_type": "display_data"
    }
   ],
   "source": [
    "head(j[u])"
   ]
  },
  {
   "cell_type": "code",
   "execution_count": 108,
   "metadata": {},
   "outputs": [
    {
     "name": "stderr",
     "output_type": "stream",
     "text": [
      "Warning message in fitter(X, Y, strats, offset, init, control, weights = weights, :\n",
      "“Ran out of iterations and did not converge”"
     ]
    },
    {
     "data": {
      "text/plain": [
       "Call:\n",
       "coxph(formula = Surv(time, DEATH) ~ ., data = j[u])\n",
       "\n",
       "  n= 55, number of events= 21 \n",
       "\n",
       "                                 coef   exp(coef)    se(coef)      z Pr(>|z|)\n",
       "PDCD2                       2.204e+02   5.443e+95   9.069e+02  0.243    0.808\n",
       "CCL5                       -4.391e+01   8.544e-20   4.704e+02 -0.093    0.926\n",
       "LY96                        1.377e+02   6.322e+59   1.337e+03  0.103    0.918\n",
       "CXCR4                       1.069e+02   2.739e+46   8.605e+02  0.124    0.901\n",
       "FCGRT                       2.537e+02  1.469e+110   1.162e+03  0.218    0.827\n",
       "PPBP                        4.598e+01   9.314e+19   4.054e+02  0.113    0.910\n",
       "PTPN2                      -3.365e+02  6.907e-147   9.658e+02 -0.348    0.727\n",
       "IL1RL2                     -2.008e+02   5.973e-88   6.404e+02 -0.314    0.754\n",
       "LGALS3                     -3.157e+02  7.607e-138   7.930e+02 -0.398    0.691\n",
       "KIT                         6.062e+01   2.133e+26   3.596e+02  0.169    0.866\n",
       "FCAR                       -2.025e+02   1.081e-88   5.748e+02 -0.352    0.725\n",
       "IL13RA1                    -1.048e+02   2.969e-46   8.740e+02 -0.120    0.905\n",
       "BST1                       -1.677e+02   1.547e-73   8.151e+02 -0.206    0.837\n",
       "HLA.DMB                     4.964e+02  3.814e+215   1.025e+03  0.484    0.628\n",
       "LILRB3                      4.219e+02  1.708e+183   1.289e+03  0.327    0.743\n",
       "AHR                         1.210e+01   1.800e+05   6.322e+02  0.019    0.985\n",
       "STAT6                       1.042e+02   1.730e+45   8.399e+02  0.124    0.901\n",
       "BLNK                        1.238e+02   6.037e+53   1.019e+03  0.121    0.903\n",
       "CFD                        -3.151e+01   2.075e-14   6.972e+02 -0.045    0.964\n",
       "CD7                         1.416e+02   3.111e+61   6.014e+02  0.235    0.814\n",
       "C4BPA                      -8.287e+01   1.027e-36   5.975e+02 -0.139    0.890\n",
       "GNLY                       -1.056e+02   1.378e-46   3.989e+02 -0.265    0.791\n",
       "TAGAP                      -6.428e+01   1.213e-28   6.240e+02 -0.103    0.918\n",
       "CTNNB1                      9.283e+01   2.060e+40   8.311e+02  0.112    0.911\n",
       "C6                          2.586e+02  2.121e+112   6.120e+02  0.423    0.673\n",
       "IL17A                       1.212e+02   4.452e+52   7.478e+02  0.162    0.871\n",
       "CD81                       -1.070e+02   3.553e-47   1.122e+03 -0.095    0.924\n",
       "PTGER4                     -1.374e+02   2.217e-60   1.996e+03 -0.069    0.945\n",
       "IFNGR1                      1.607e+02   6.488e+69   8.658e+02  0.186    0.853\n",
       "XCL1                        2.792e+01   1.335e+12   1.071e+03  0.026    0.979\n",
       "TRAF1                      -1.746e+01   2.618e-08   7.383e+02 -0.024    0.981\n",
       "BCL10                      -2.293e+02  2.717e-100   1.256e+03 -0.183    0.855\n",
       "CEACAM6                     1.135e+01   8.517e+04   1.346e+02  0.084    0.933\n",
       "TNFSF11                    -6.186e+01   1.369e-27   7.238e+02 -0.085    0.932\n",
       "TNFRSF13B                  -2.153e+02   3.121e-94   4.683e+02 -0.460    0.646\n",
       "PTAFR                      -1.142e+02   2.424e-50   1.378e+03 -0.083    0.934\n",
       "IL18RAP                     6.282e+01   1.916e+27   8.397e+02  0.075    0.940\n",
       "FCGR2A                      1.376e+02   5.909e+59   9.671e+02  0.142    0.887\n",
       "MAPKAPK2                   -3.273e+01   6.086e-15   7.935e+02 -0.041    0.967\n",
       "TNF                        -9.370e+01   2.020e-41   8.247e+02 -0.114    0.910\n",
       "MCL1                        1.632e+00   5.113e+00   1.331e+03  0.001    0.999\n",
       "NCAM1                       1.287e+01   3.892e+05   4.521e+02  0.028    0.977\n",
       "LILRA2                     -7.958e+01   2.739e-35   7.188e+02 -0.111    0.912\n",
       "LILRA1                     -2.087e+01   8.626e-10   6.834e+02 -0.031    0.976\n",
       "ARG2                       -1.353e+02   1.704e-59   4.437e+02 -0.305    0.760\n",
       "HLA.DRB3                   -3.458e+02  6.772e-151   6.712e+02 -0.515    0.606\n",
       "CSF2RB                      1.424e+02   6.740e+61   7.451e+02  0.191    0.848\n",
       "C1QA                       -2.937e+02  2.909e-128   8.903e+02 -0.330    0.742\n",
       "CCL2                       -5.283e+00   5.078e-03   1.158e+03 -0.005    0.996\n",
       "PSMC2                       3.514e+02  3.963e+152   1.434e+03  0.245    0.806\n",
       "EGR2                       -2.291e+02  3.302e-100   6.638e+02 -0.345    0.730\n",
       "KIR_Activating_Subgroup_1   1.906e+02   6.146e+82   7.653e+02  0.249    0.803\n",
       "GATA3                       3.869e+01   6.339e+16   4.263e+02  0.091    0.928\n",
       "CR1                         2.926e+01   5.104e+12   6.324e+02  0.046    0.963\n",
       "MARCO                       7.542e+00   1.886e+03   3.737e+02  0.020    0.984\n",
       "TOLLIP                     -2.242e+01   1.839e-10   1.063e+03 -0.021    0.983\n",
       "KLRG1                       0.000e+00   1.000e+00   6.463e+02  0.000    1.000\n",
       "IFNA2                       7.538e+00   1.878e+03   7.371e+02  0.010    0.992\n",
       "HFE                         6.240e+00   5.127e+02   8.264e+02  0.008    0.994\n",
       "CD40                       -7.019e+00   8.950e-04   6.593e+02 -0.011    0.992\n",
       "APP                         0.000e+00   1.000e+00   7.133e+02  0.000    1.000\n",
       "BAX                         0.000e+00   1.000e+00   9.380e+02  0.000    1.000\n",
       "IL10RA                      0.000e+00   1.000e+00   1.159e+03  0.000    1.000\n",
       "HLA.DPA1                   -5.264e+00   5.173e-03   7.955e+02 -0.007    0.995\n",
       "CEBPB                      -3.124e+00   4.397e-02   8.297e+02 -0.004    0.997\n",
       "NFKB1                       0.000e+00   1.000e+00   1.173e+03  0.000    1.000\n",
       "CD24                        8.127e+00   3.385e+03   4.416e+02  0.018    0.985\n",
       "CD74                        0.000e+00   1.000e+00   6.345e+02  0.000    1.000\n",
       "STAT2                       0.000e+00   1.000e+00   1.179e+03  0.000    1.000\n",
       "SMAD5                       0.000e+00   1.000e+00   1.198e+03  0.000    1.000\n",
       "RAG1                        0.000e+00   1.000e+00   1.138e+03  0.000    1.000\n",
       "IL2RA                       0.000e+00   1.000e+00   7.040e+02  0.000    1.000\n",
       "POU2F2                      0.000e+00   1.000e+00   1.544e+03  0.000    1.000\n",
       "\n",
       "                           exp(coef) exp(-coef)  lower .95  upper .95\n",
       "PDCD2                      5.443e+95  1.837e-96  0.000e+00        Inf\n",
       "CCL5                       8.544e-20  1.170e+19  0.000e+00        Inf\n",
       "LY96                       6.322e+59  1.582e-60  0.000e+00        Inf\n",
       "CXCR4                      2.739e+46  3.651e-47  0.000e+00        Inf\n",
       "FCGRT                     1.469e+110 6.809e-111  0.000e+00        Inf\n",
       "PPBP                       9.314e+19  1.074e-20  0.000e+00        Inf\n",
       "PTPN2                     6.907e-147 1.448e+146  0.000e+00        Inf\n",
       "IL1RL2                     5.973e-88  1.674e+87  0.000e+00        Inf\n",
       "LGALS3                    7.607e-138 1.315e+137  0.000e+00        Inf\n",
       "KIT                        2.133e+26  4.689e-27 1.779e-280        Inf\n",
       "FCAR                       1.081e-88  9.252e+87  0.000e+00        Inf\n",
       "IL13RA1                    2.969e-46  3.369e+45  0.000e+00        Inf\n",
       "BST1                       1.547e-73  6.466e+72  0.000e+00        Inf\n",
       "HLA.DMB                   3.814e+215 2.622e-216  0.000e+00        Inf\n",
       "LILRB3                    1.708e+183 5.855e-184  0.000e+00        Inf\n",
       "AHR                        1.800e+05  5.555e-06  0.000e+00        Inf\n",
       "STAT6                      1.730e+45  5.781e-46  0.000e+00        Inf\n",
       "BLNK                       6.037e+53  1.656e-54  0.000e+00        Inf\n",
       "CFD                        2.075e-14  4.820e+13  0.000e+00        Inf\n",
       "CD7                        3.111e+61  3.215e-62  0.000e+00        Inf\n",
       "C4BPA                      1.027e-36  9.733e+35  0.000e+00        Inf\n",
       "GNLY                       1.378e-46  7.259e+45  0.000e+00 4.547e+293\n",
       "TAGAP                      1.213e-28  8.243e+27  0.000e+00        Inf\n",
       "CTNNB1                     2.060e+40  4.855e-41  0.000e+00        Inf\n",
       "C6                        2.121e+112 4.714e-113  0.000e+00        Inf\n",
       "IL17A                      4.452e+52  2.246e-53  0.000e+00        Inf\n",
       "CD81                       3.553e-47  2.814e+46  0.000e+00        Inf\n",
       "PTGER4                     2.217e-60  4.510e+59  0.000e+00        Inf\n",
       "IFNGR1                     6.488e+69  1.541e-70  0.000e+00        Inf\n",
       "XCL1                       1.335e+12  7.488e-13  0.000e+00        Inf\n",
       "TRAF1                      2.618e-08  3.820e+07  0.000e+00        Inf\n",
       "BCL10                     2.717e-100  3.681e+99  0.000e+00        Inf\n",
       "CEACAM6                    8.517e+04  1.174e-05 2.475e-110 2.931e+119\n",
       "TNFSF11                    1.369e-27  7.304e+26  0.000e+00        Inf\n",
       "TNFRSF13B                  3.121e-94  3.204e+93  0.000e+00 1.289e+305\n",
       "PTAFR                      2.424e-50  4.126e+49  0.000e+00        Inf\n",
       "IL18RAP                    1.916e+27  5.219e-28  0.000e+00        Inf\n",
       "FCGR2A                     5.909e+59  1.692e-60  0.000e+00        Inf\n",
       "MAPKAPK2                   6.086e-15  1.643e+14  0.000e+00        Inf\n",
       "TNF                        2.020e-41  4.949e+40  0.000e+00        Inf\n",
       "MCL1                       5.113e+00  1.956e-01  0.000e+00        Inf\n",
       "NCAM1                      3.892e+05  2.569e-06  0.000e+00        Inf\n",
       "LILRA2                     2.739e-35  3.652e+34  0.000e+00        Inf\n",
       "LILRA1                     8.626e-10  1.159e+09  0.000e+00        Inf\n",
       "ARG2                       1.704e-59  5.868e+58  0.000e+00        Inf\n",
       "HLA.DRB3                  6.772e-151 1.477e+150  0.000e+00        Inf\n",
       "CSF2RB                     6.740e+61  1.484e-62  0.000e+00        Inf\n",
       "C1QA                      2.909e-128 3.438e+127  0.000e+00        Inf\n",
       "CCL2                       5.078e-03  1.969e+02  0.000e+00        Inf\n",
       "PSMC2                     3.963e+152 2.523e-153  0.000e+00        Inf\n",
       "EGR2                      3.302e-100  3.029e+99  0.000e+00        Inf\n",
       "KIR_Activating_Subgroup_1  6.146e+82  1.627e-83  0.000e+00        Inf\n",
       "GATA3                      6.339e+16  1.578e-17  0.000e+00        Inf\n",
       "CR1                        5.104e+12  1.959e-13  0.000e+00        Inf\n",
       "MARCO                      1.886e+03  5.303e-04 1.442e-315        Inf\n",
       "TOLLIP                     1.839e-10  5.437e+09  0.000e+00        Inf\n",
       "KLRG1                      1.000e+00  1.000e+00  0.000e+00        Inf\n",
       "IFNA2                      1.878e+03  5.324e-04  0.000e+00        Inf\n",
       "HFE                        5.127e+02  1.950e-03  0.000e+00        Inf\n",
       "CD40                       8.950e-04  1.117e+03  0.000e+00        Inf\n",
       "APP                        1.000e+00  1.000e+00  0.000e+00        Inf\n",
       "BAX                        1.000e+00  1.000e+00  0.000e+00        Inf\n",
       "IL10RA                     1.000e+00  1.000e+00  0.000e+00        Inf\n",
       "HLA.DPA1                   5.173e-03  1.933e+02  0.000e+00        Inf\n",
       "CEBPB                      4.397e-02  2.275e+01  0.000e+00        Inf\n",
       "NFKB1                      1.000e+00  1.000e+00  0.000e+00        Inf\n",
       "CD24                       3.385e+03  2.954e-04  0.000e+00        Inf\n",
       "CD74                       1.000e+00  1.000e+00  0.000e+00        Inf\n",
       "STAT2                      1.000e+00  1.000e+00  0.000e+00        Inf\n",
       "SMAD5                      1.000e+00  1.000e+00  0.000e+00        Inf\n",
       "RAG1                       1.000e+00  1.000e+00  0.000e+00        Inf\n",
       "IL2RA                      1.000e+00  1.000e+00  0.000e+00        Inf\n",
       "POU2F2                     1.000e+00  1.000e+00  0.000e+00        Inf\n",
       "\n",
       "Concordance= 1  (se = 0 )\n",
       "Likelihood ratio test= 159.5  on 73 df,   p=2e-08\n",
       "Wald test            = 2.62  on 73 df,   p=1\n",
       "Score (logrank) test = 187.6  on 73 df,   p=5e-12\n"
      ]
     },
     "metadata": {},
     "output_type": "display_data"
    }
   ],
   "source": [
    "res.cox.death <- coxph(Surv(time, DEATH) ~ . ,data =  j[u])\n",
    "\n",
    "summary(res.cox.death)"
   ]
  },
  {
   "cell_type": "code",
   "execution_count": 82,
   "metadata": {},
   "outputs": [],
   "source": [
    "fit <- survfit(res.cox.death)\n",
    "death_times <- fit$time\n",
    "surv_prob <- data.frame(fit$surv)\n",
    "avg_prob <-  rowMeans(as.matrix(surv_prob))"
   ]
  },
  {
   "cell_type": "code",
   "execution_count": null,
   "metadata": {},
   "outputs": [],
   "source": []
  },
  {
   "cell_type": "code",
   "execution_count": 83,
   "metadata": {},
   "outputs": [],
   "source": [
    "j3 <- j[c(which(j$RELAPSE==1)),]"
   ]
  },
  {
   "cell_type": "code",
   "execution_count": 84,
   "metadata": {},
   "outputs": [
    {
     "ename": "ERROR",
     "evalue": "Error in eval(predvars, data, env): object 'VTN' not found\n",
     "output_type": "error",
     "traceback": [
      "Error in eval(predvars, data, env): object 'VTN' not found\nTraceback:\n",
      "1. survfit(res.cox.death, newdata = j3[u[c(3, 4:5)]])",
      "2. survfit.coxph(res.cox.death, newdata = j3[u[c(3, 4:5)]])",
      "3. stats::model.frame(Terms2, data = newdata, na.action = na.action, \n .     xlev = object$xlevels)",
      "4. model.frame.default(Terms2, data = newdata, na.action = na.action, \n .     xlev = object$xlevels)",
      "5. eval(predvars, data, env)",
      "6. eval(predvars, data, env)"
     ]
    }
   ],
   "source": [
    "fit1 <- survfit(res.cox.death, newdata = j3[u[c(3,4:5)]])\n",
    "\n",
    "death_times.2 <- fit1$time\n",
    "surv_prob.2 <- data.frame(fit1$surv)\n",
    "avg_prob.2 <-  rowMeans(as.matrix(surv_prob.2))"
   ]
  },
  {
   "cell_type": "code",
   "execution_count": null,
   "metadata": {},
   "outputs": [],
   "source": []
  },
  {
   "cell_type": "code",
   "execution_count": 122,
   "metadata": {},
   "outputs": [],
   "source": [
    "j4 <- j[c(which(j$RELAPSE==0)),]"
   ]
  },
  {
   "cell_type": "code",
   "execution_count": 136,
   "metadata": {},
   "outputs": [],
   "source": [
    "fit2 <- survfit(res.cox.death, newdata = j4[u[c(3,4:5)]])\n",
    "\n",
    "death_times.3 <- fit2$time\n",
    "surv_prob.3 <- data.frame(fit2$surv)\n",
    "avg_prob.3 <-  rowMeans(as.matrix(surv_prob.3))"
   ]
  },
  {
   "cell_type": "code",
   "execution_count": null,
   "metadata": {},
   "outputs": [],
   "source": []
  },
  {
   "cell_type": "code",
   "execution_count": 137,
   "metadata": {},
   "outputs": [
    {
     "data": {
      "image/png": "[encoded data removed]",
      "text/plain": [
       "plot without title"
      ]
     },
     "metadata": {},
     "output_type": "display_data"
    }
   ],
   "source": [
    "plot(death_times.2,avg_prob.2, ylab=\"Survival\", xlab=\"Time\",type = 'l',ylim = c(0,1),col='red',lwd = 3)\n",
    "\n",
    "lines(death_times.3,avg_prob.3, \n",
    "      col = \"blue\",\n",
    "      xlab = \"Days\",\n",
    "      ylab = \"survival\",\n",
    "      type=\"l\",\n",
    "      lty = 1,\n",
    "      lwd = 3, \n",
    "      main = paste(\"prediction:cox model\", 'pCR-0', sep=\"\"))\n",
    "legend(\"bottomleft\", legend = c('Nano-RELAPSE : 1','Nano-RELAPSE : 0'),\n",
    "       col=c('red','blue'), lty=1, cex=0.8)"
   ]
  },
  {
   "cell_type": "code",
   "execution_count": null,
   "metadata": {},
   "outputs": [],
   "source": []
  },
  {
   "cell_type": "code",
   "execution_count": null,
   "metadata": {},
   "outputs": [],
   "source": []
  },
  {
   "cell_type": "code",
   "execution_count": null,
   "metadata": {},
   "outputs": [],
   "source": []
  },
  {
   "cell_type": "code",
   "execution_count": 14,
   "metadata": {},
   "outputs": [],
   "source": [
    "j <- read.csv('/data/users/gb/Asan/survival/nanostring/Rawdata/tr-te-split/X_train_data.csv',header = T,sep = '\\t')\n",
    "j.info <- read.csv('/data//users/gb/Asan/survival/nanostring/Rawdata/tr-te-split/Y_train_info_2.csv')\n",
    "j2 <- read.csv('/data/users/gb/Asan/survival/nanostring/Rawdata/tr-te-split/X_test_data.csv',header = T,sep = '\\t')\n",
    "j2.info <- read.csv('/data//users/gb/Asan/survival/nanostring/Rawdata/tr-te-split/Y_test_info_2.csv')"
   ]
  },
  {
   "cell_type": "code",
   "execution_count": 16,
   "metadata": {},
   "outputs": [
    {
     "data": {
      "text/html": [
       "<ol class=list-inline>\n",
       "\t<li>X53</li>\n",
       "\t<li>X5</li>\n",
       "\t<li>X32</li>\n",
       "\t<li>X54</li>\n",
       "\t<li>X48</li>\n",
       "\t<li>X40</li>\n",
       "\t<li>X39</li>\n",
       "\t<li>X12</li>\n",
       "\t<li>X13</li>\n",
       "\t<li>X6</li>\n",
       "\t<li>X15</li>\n",
       "\t<li>X11</li>\n",
       "\t<li>X22</li>\n",
       "\t<li>X35</li>\n",
       "\t<li>X19</li>\n",
       "\t<li>X14</li>\n",
       "\t<li>X36</li>\n",
       "\t<li>X43</li>\n",
       "\t<li>X38</li>\n",
       "\t<li>X25</li>\n",
       "\t<li>X51</li>\n",
       "\t<li>X21</li>\n",
       "\t<li>X45</li>\n",
       "\t<li>X37</li>\n",
       "\t<li>X28</li>\n",
       "\t<li>X50</li>\n",
       "\t<li>X42</li>\n",
       "\t<li>X41</li>\n",
       "\t<li>X46</li>\n",
       "\t<li>X26</li>\n",
       "\t<li>X55</li>\n",
       "\t<li>X2</li>\n",
       "\t<li>X29</li>\n",
       "\t<li>X31</li>\n",
       "\t<li>X1</li>\n",
       "\t<li>X8</li>\n",
       "\t<li>X24</li>\n",
       "\t<li>X52</li>\n",
       "</ol>\n",
       "\n",
       "<details>\n",
       "\t<summary style=display:list-item;cursor:pointer>\n",
       "\t\t<strong>Levels</strong>:\n",
       "\t</summary>\n",
       "\t<ol class=list-inline>\n",
       "\t\t<li>'X1'</li>\n",
       "\t\t<li>'X11'</li>\n",
       "\t\t<li>'X12'</li>\n",
       "\t\t<li>'X13'</li>\n",
       "\t\t<li>'X14'</li>\n",
       "\t\t<li>'X15'</li>\n",
       "\t\t<li>'X19'</li>\n",
       "\t\t<li>'X2'</li>\n",
       "\t\t<li>'X21'</li>\n",
       "\t\t<li>'X22'</li>\n",
       "\t\t<li>'X24'</li>\n",
       "\t\t<li>'X25'</li>\n",
       "\t\t<li>'X26'</li>\n",
       "\t\t<li>'X28'</li>\n",
       "\t\t<li>'X29'</li>\n",
       "\t\t<li>'X31'</li>\n",
       "\t\t<li>'X32'</li>\n",
       "\t\t<li>'X35'</li>\n",
       "\t\t<li>'X36'</li>\n",
       "\t\t<li>'X37'</li>\n",
       "\t\t<li>'X38'</li>\n",
       "\t\t<li>'X39'</li>\n",
       "\t\t<li>'X40'</li>\n",
       "\t\t<li>'X41'</li>\n",
       "\t\t<li>'X42'</li>\n",
       "\t\t<li>'X43'</li>\n",
       "\t\t<li>'X45'</li>\n",
       "\t\t<li>'X46'</li>\n",
       "\t\t<li>'X48'</li>\n",
       "\t\t<li>'X5'</li>\n",
       "\t\t<li>'X50'</li>\n",
       "\t\t<li>'X51'</li>\n",
       "\t\t<li>'X52'</li>\n",
       "\t\t<li>'X53'</li>\n",
       "\t\t<li>'X54'</li>\n",
       "\t\t<li>'X55'</li>\n",
       "\t\t<li>'X6'</li>\n",
       "\t\t<li>'X8'</li>\n",
       "\t</ol>\n",
       "</details>"
      ],
      "text/latex": [
       "\\begin{enumerate*}\n",
       "\\item X53\n",
       "\\item X5\n",
       "\\item X32\n",
       "\\item X54\n",
       "\\item X48\n",
       "\\item X40\n",
       "\\item X39\n",
       "\\item X12\n",
       "\\item X13\n",
       "\\item X6\n",
       "\\item X15\n",
       "\\item X11\n",
       "\\item X22\n",
       "\\item X35\n",
       "\\item X19\n",
       "\\item X14\n",
       "\\item X36\n",
       "\\item X43\n",
       "\\item X38\n",
       "\\item X25\n",
       "\\item X51\n",
       "\\item X21\n",
       "\\item X45\n",
       "\\item X37\n",
       "\\item X28\n",
       "\\item X50\n",
       "\\item X42\n",
       "\\item X41\n",
       "\\item X46\n",
       "\\item X26\n",
       "\\item X55\n",
       "\\item X2\n",
       "\\item X29\n",
       "\\item X31\n",
       "\\item X1\n",
       "\\item X8\n",
       "\\item X24\n",
       "\\item X52\n",
       "\\end{enumerate*}\n",
       "\n",
       "\\emph{Levels}: \\begin{enumerate*}\n",
       "\\item 'X1'\n",
       "\\item 'X11'\n",
       "\\item 'X12'\n",
       "\\item 'X13'\n",
       "\\item 'X14'\n",
       "\\item 'X15'\n",
       "\\item 'X19'\n",
       "\\item 'X2'\n",
       "\\item 'X21'\n",
       "\\item 'X22'\n",
       "\\item 'X24'\n",
       "\\item 'X25'\n",
       "\\item 'X26'\n",
       "\\item 'X28'\n",
       "\\item 'X29'\n",
       "\\item 'X31'\n",
       "\\item 'X32'\n",
       "\\item 'X35'\n",
       "\\item 'X36'\n",
       "\\item 'X37'\n",
       "\\item 'X38'\n",
       "\\item 'X39'\n",
       "\\item 'X40'\n",
       "\\item 'X41'\n",
       "\\item 'X42'\n",
       "\\item 'X43'\n",
       "\\item 'X45'\n",
       "\\item 'X46'\n",
       "\\item 'X48'\n",
       "\\item 'X5'\n",
       "\\item 'X50'\n",
       "\\item 'X51'\n",
       "\\item 'X52'\n",
       "\\item 'X53'\n",
       "\\item 'X54'\n",
       "\\item 'X55'\n",
       "\\item 'X6'\n",
       "\\item 'X8'\n",
       "\\end{enumerate*}\n"
      ],
      "text/markdown": [
       "1. X53\n",
       "2. X5\n",
       "3. X32\n",
       "4. X54\n",
       "5. X48\n",
       "6. X40\n",
       "7. X39\n",
       "8. X12\n",
       "9. X13\n",
       "10. X6\n",
       "11. X15\n",
       "12. X11\n",
       "13. X22\n",
       "14. X35\n",
       "15. X19\n",
       "16. X14\n",
       "17. X36\n",
       "18. X43\n",
       "19. X38\n",
       "20. X25\n",
       "21. X51\n",
       "22. X21\n",
       "23. X45\n",
       "24. X37\n",
       "25. X28\n",
       "26. X50\n",
       "27. X42\n",
       "28. X41\n",
       "29. X46\n",
       "30. X26\n",
       "31. X55\n",
       "32. X2\n",
       "33. X29\n",
       "34. X31\n",
       "35. X1\n",
       "36. X8\n",
       "37. X24\n",
       "38. X52\n",
       "\n",
       "\n",
       "\n",
       "**Levels**: 1. 'X1'\n",
       "2. 'X11'\n",
       "3. 'X12'\n",
       "4. 'X13'\n",
       "5. 'X14'\n",
       "6. 'X15'\n",
       "7. 'X19'\n",
       "8. 'X2'\n",
       "9. 'X21'\n",
       "10. 'X22'\n",
       "11. 'X24'\n",
       "12. 'X25'\n",
       "13. 'X26'\n",
       "14. 'X28'\n",
       "15. 'X29'\n",
       "16. 'X31'\n",
       "17. 'X32'\n",
       "18. 'X35'\n",
       "19. 'X36'\n",
       "20. 'X37'\n",
       "21. 'X38'\n",
       "22. 'X39'\n",
       "23. 'X40'\n",
       "24. 'X41'\n",
       "25. 'X42'\n",
       "26. 'X43'\n",
       "27. 'X45'\n",
       "28. 'X46'\n",
       "29. 'X48'\n",
       "30. 'X5'\n",
       "31. 'X50'\n",
       "32. 'X51'\n",
       "33. 'X52'\n",
       "34. 'X53'\n",
       "35. 'X54'\n",
       "36. 'X55'\n",
       "37. 'X6'\n",
       "38. 'X8'\n",
       "\n",
       "\n"
      ],
      "text/plain": [
       " [1] X53 X5  X32 X54 X48 X40 X39 X12 X13 X6  X15 X11 X22 X35 X19 X14 X36 X43 X38\n",
       "[20] X25 X51 X21 X45 X37 X28 X50 X42 X41 X46 X26 X55 X2  X29 X31 X1  X8  X24 X52\n",
       "38 Levels: X1 X11 X12 X13 X14 X15 X19 X2 X21 X22 X24 X25 X26 X28 X29 ... X8"
      ]
     },
     "metadata": {},
     "output_type": "display_data"
    }
   ],
   "source": []
  },
  {
   "cell_type": "code",
   "execution_count": 18,
   "metadata": {},
   "outputs": [],
   "source": [
    "rownames(j) <- j[,1]\n",
    "rownames(j2) <- j2[,1]"
   ]
  },
  {
   "cell_type": "code",
   "execution_count": 20,
   "metadata": {},
   "outputs": [],
   "source": [
    "j$time <- j.info$year_time\n",
    "j$RELAPSE <- j.info$RELAPSE\n",
    "j$pCR <- j.info$pCR\n",
    "#j$Miller.Payne_grade <- j2$Miller.Payne_grade\n",
    "#j$RCB <- j2$RCB\n",
    "j$DEATH <- j.info$DEATH"
   ]
  },
  {
   "cell_type": "code",
   "execution_count": 19,
   "metadata": {},
   "outputs": [],
   "source": [
    "j2$time <- j2.info$year_time\n",
    "j2$RELAPSE <- j2.info$RELAPSE\n",
    "j2$pCR <- j2.info$pCR\n",
    "#j$Miller.Payne_grade <- j2$Miller.Payne_grade\n",
    "#j$RCB <- j2$RCB\n",
    "j2$DEATH <- j2.info$DEATH"
   ]
  },
  {
   "cell_type": "code",
   "execution_count": 30,
   "metadata": {},
   "outputs": [],
   "source": [
    "library(survival)"
   ]
  },
  {
   "cell_type": "code",
   "execution_count": 273,
   "metadata": {},
   "outputs": [],
   "source": [
    "#u <-c('CCL5', 'CD1A', 'GNLY', 'FCER1A', 'CCL20', 'SELE','DEATH','time') #pCR\n",
    "#u <-c('IL17B', 'EDNRB', 'TGFBI','DEATH','time') # RELAPSE\n",
    "#u <- c('CCL5','CCL7','CCL8','CLEC4E','EDNRB','FCER1A','IL17B','IL2RA','TNFSF13B','CSF2RB','TGFBI','GZMB','SELE','time','DEATH') #RELAPSE\n",
    "u <- c('C4A.B', 'CCL5', 'CD1A', 'CCL20', 'FCER1A', 'GNLY', 'IL2RA','S100A9','SELE','DEATH','time') #pCR"
   ]
  },
  {
   "cell_type": "code",
   "execution_count": 274,
   "metadata": {
    "scrolled": true
   },
   "outputs": [
    {
     "data": {
      "text/html": [
       "<ol class=list-inline>\n",
       "\t<li>'CCL5'</li>\n",
       "\t<li>'CD1A'</li>\n",
       "\t<li>'CCL20'</li>\n",
       "\t<li>'FCER1A'</li>\n",
       "\t<li>'GNLY'</li>\n",
       "\t<li>'S100A9'</li>\n",
       "\t<li>'SELE'</li>\n",
       "\t<li>'DEATH'</li>\n",
       "\t<li>'time'</li>\n",
       "</ol>\n"
      ],
      "text/latex": [
       "\\begin{enumerate*}\n",
       "\\item 'CCL5'\n",
       "\\item 'CD1A'\n",
       "\\item 'CCL20'\n",
       "\\item 'FCER1A'\n",
       "\\item 'GNLY'\n",
       "\\item 'S100A9'\n",
       "\\item 'SELE'\n",
       "\\item 'DEATH'\n",
       "\\item 'time'\n",
       "\\end{enumerate*}\n"
      ],
      "text/markdown": [
       "1. 'CCL5'\n",
       "2. 'CD1A'\n",
       "3. 'CCL20'\n",
       "4. 'FCER1A'\n",
       "5. 'GNLY'\n",
       "6. 'S100A9'\n",
       "7. 'SELE'\n",
       "8. 'DEATH'\n",
       "9. 'time'\n",
       "\n",
       "\n"
      ],
      "text/plain": [
       "[1] \"CCL5\"   \"CD1A\"   \"CCL20\"  \"FCER1A\" \"GNLY\"   \"S100A9\" \"SELE\"   \"DEATH\" \n",
       "[9] \"time\"  "
      ]
     },
     "metadata": {},
     "output_type": "display_data"
    }
   ],
   "source": [
    "u[c(2,3,4,5,6,8,9,10:11)] #pCR\n",
    "#u[c(2,5,7,11,13,14:15)] #RELAPSE"
   ]
  },
  {
   "cell_type": "code",
   "execution_count": 286,
   "metadata": {},
   "outputs": [
    {
     "data": {
      "text/plain": [
       "Call:\n",
       "coxph(formula = Surv(time, DEATH) ~ ., data = j[u[c(5, 10:11)]])\n",
       "\n",
       "  n= 38, number of events= 17 \n",
       "\n",
       "         coef exp(coef) se(coef)     z Pr(>|z|)   \n",
       "FCER1A 0.5106    1.6663   0.1933 2.641  0.00827 **\n",
       "---\n",
       "Signif. codes:  0 ‘***’ 0.001 ‘**’ 0.01 ‘*’ 0.05 ‘.’ 0.1 ‘ ’ 1\n",
       "\n",
       "       exp(coef) exp(-coef) lower .95 upper .95\n",
       "FCER1A     1.666     0.6001     1.141     2.434\n",
       "\n",
       "Concordance= 0.677  (se = 0.061 )\n",
       "Likelihood ratio test= 6.86  on 1 df,   p=0.009\n",
       "Wald test            = 6.97  on 1 df,   p=0.008\n",
       "Score (logrank) test = 7.1  on 1 df,   p=0.008\n"
      ]
     },
     "metadata": {},
     "output_type": "display_data"
    }
   ],
   "source": [
    "res.cox.death <- coxph(Surv(time, DEATH) ~ . ,data =  j[u[c(5,10:11)]])\n",
    "\n",
    "summary(res.cox.death)"
   ]
  },
  {
   "cell_type": "code",
   "execution_count": 287,
   "metadata": {},
   "outputs": [],
   "source": [
    "fit <- survfit(res.cox.death)\n",
    "death_times <- fit$time\n",
    "surv_prob <- data.frame(fit$surv)\n",
    "avg_prob <-  rowMeans(as.matrix(surv_prob))"
   ]
  },
  {
   "cell_type": "code",
   "execution_count": null,
   "metadata": {},
   "outputs": [],
   "source": []
  },
  {
   "cell_type": "code",
   "execution_count": 288,
   "metadata": {},
   "outputs": [],
   "source": [
    "fit1 <- survfit(res.cox.death, newdata = j2[u[c(5,10:11)]])\n",
    "\n",
    "death_times.2 <- fit1$time\n",
    "surv_prob.2 <- data.frame(fit1$surv)\n",
    "avg_prob.2 <-  rowMeans(as.matrix(surv_prob.2))"
   ]
  },
  {
   "cell_type": "code",
   "execution_count": null,
   "metadata": {},
   "outputs": [],
   "source": []
  },
  {
   "cell_type": "code",
   "execution_count": 289,
   "metadata": {},
   "outputs": [],
   "source": [
    "j3.train <- j[c(which(j$pCR==0)),]\n",
    "j3.test <- j[c(which(j$pCR==0)),]\n",
    "j4.train <- j2[c(which(j2$pCR==1)),]\n",
    "j4.test <- j2[c(which(j2$pCR==1)),]"
   ]
  },
  {
   "cell_type": "code",
   "execution_count": null,
   "metadata": {},
   "outputs": [],
   "source": []
  },
  {
   "cell_type": "code",
   "execution_count": 290,
   "metadata": {},
   "outputs": [],
   "source": [
    "fit2.train <- survfit(res.cox.death, newdata = j3.train[u[c(5,10:11)]])\n",
    "fit2.test <- survfit(res.cox.death, newdata = j3.test[u[c(5,10:11)]])\n",
    "\n",
    "death_times.3.train <- fit2.train$time\n",
    "surv_prob.3.train <- data.frame(fit2.train$surv)\n",
    "avg_prob.3.train <-  rowMeans(as.matrix(surv_prob.3.train))\n",
    "death_times.3.test <- fit2.test$time\n",
    "surv_prob.3.test <- data.frame(fit2.test$surv)\n",
    "avg_prob.3.test <-  rowMeans(as.matrix(surv_prob.3.test))"
   ]
  },
  {
   "cell_type": "code",
   "execution_count": 291,
   "metadata": {},
   "outputs": [],
   "source": [
    "fit3.train <- survfit(res.cox.death, newdata = j4.train[u[c(5,10:11)]])\n",
    "fit3.test <- survfit(res.cox.death, newdata = j4.test[u[c(5,10:11)]])\n",
    "\n",
    "death_times.4.train <- fit3.train$time\n",
    "surv_prob.4.train <- data.frame(fit3.train$surv)\n",
    "avg_prob.4.train <-  rowMeans(as.matrix(surv_prob.4.train))\n",
    "death_times.4.test <- fit3.test$time\n",
    "surv_prob.4.test <- data.frame(fit3.test$surv)\n",
    "avg_prob.4.test <-  rowMeans(as.matrix(surv_prob.4.test))"
   ]
  },
  {
   "cell_type": "code",
   "execution_count": 292,
   "metadata": {},
   "outputs": [
    {
     "data": {
      "image/png": "[encoded data removed]",
      "text/plain": [
       "plot without title"
      ]
     },
     "metadata": {},
     "output_type": "display_data"
    }
   ],
   "source": [
    "plot(death_times,avg_prob, ylab=\"Survival\", xlab=\"Time\",type = 'l',ylim = c(0,1),col='red',lwd = 3)\n",
    "\n",
    "lines(death_times.2,avg_prob.2, \n",
    "      col = \"blue\",\n",
    "      xlab = \"Days\",\n",
    "      ylab = \"survival\",\n",
    "      type=\"l\",\n",
    "      lty = 1,\n",
    "      lwd = 3, \n",
    "      main = paste(\"prediction:cox model\", 'pCR-0', sep=\"\"))\n",
    "lines(death_times.3.train,avg_prob.3.train, \n",
    "      col = \"red\",\n",
    "      xlab = \"Days\",\n",
    "      ylab = \"survival\",\n",
    "      type=\"l\",\n",
    "      lty = 2,\n",
    "      lwd = 2, \n",
    "      main = paste(\"prediction:cox model\", 'pCR-0', sep=\"\"))\n",
    "lines(death_times.4.train,avg_prob.4.train, \n",
    "      col = \"red\",\n",
    "      xlab = \"Days\",\n",
    "      ylab = \"survival\",\n",
    "      type=\"l\",\n",
    "      lty = 5,\n",
    "      lwd = 2, \n",
    "      main = paste(\"prediction:cox model\", 'pCR-0', sep=\"\"))\n",
    "lines(death_times.3.test,avg_prob.3.test, \n",
    "      col = \"blue\",\n",
    "      xlab = \"Days\",\n",
    "      ylab = \"survival\",\n",
    "      type=\"l\",\n",
    "      lty = 2,\n",
    "      lwd = 2, \n",
    "      main = paste(\"prediction:cox model\", 'pCR-0', sep=\"\"))\n",
    "lines(death_times.4.test,avg_prob.4.test, \n",
    "      col = \"blue\",\n",
    "      xlab = \"Days\",\n",
    "      ylab = \"survival\",\n",
    "      type=\"l\",\n",
    "      lty = 5,\n",
    "      lwd = 2, \n",
    "      main = paste(\"prediction:cox model\", 'pCR-0', sep=\"\"))\n",
    "legend(\"bottomleft\", legend = c('Nano-train','Nano-test','Nano-pCR : 0','Nano-pCR : 1'),\n",
    "       col=c('red','blue','black','black'), lty=c(1,1,2,5), cex=1)"
   ]
  },
  {
   "cell_type": "code",
   "execution_count": null,
   "metadata": {},
   "outputs": [],
   "source": []
  },
  {
   "cell_type": "code",
   "execution_count": 122,
   "metadata": {},
   "outputs": [],
   "source": [
    "j4 <- j[c(which(j$RELAPSE==0)),]"
   ]
  },
  {
   "cell_type": "code",
   "execution_count": 136,
   "metadata": {},
   "outputs": [],
   "source": [
    "fit2 <- survfit(res.cox.death, newdata = j4[u[c(3,4:5)]])\n",
    "\n",
    "death_times.3 <- fit2$time\n",
    "surv_prob.3 <- data.frame(fit2$surv)\n",
    "avg_prob.3 <-  rowMeans(as.matrix(surv_prob.3))"
   ]
  },
  {
   "cell_type": "code",
   "execution_count": null,
   "metadata": {},
   "outputs": [],
   "source": []
  },
  {
   "cell_type": "code",
   "execution_count": 137,
   "metadata": {},
   "outputs": [
    {
     "data": {
      "image/png": "[encoded data removed]",
      "text/plain": [
       "plot without title"
      ]
     },
     "metadata": {},
     "output_type": "display_data"
    }
   ],
   "source": [
    "plot(death_times.2,avg_prob.2, ylab=\"Survival\", xlab=\"Time\",type = 'l',ylim = c(0,1),col='red',lwd = 3)\n",
    "\n",
    "lines(death_times.3,avg_prob.3, \n",
    "      col = \"blue\",\n",
    "      xlab = \"Days\",\n",
    "      ylab = \"survival\",\n",
    "      type=\"l\",\n",
    "      lty = 1,\n",
    "      lwd = 3, \n",
    "      main = paste(\"prediction:cox model\", 'pCR-0', sep=\"\"))\n",
    "legend(\"bottomleft\", legend = c('Nano-RELAPSE : 1','Nano-RELAPSE : 0'),\n",
    "       col=c('red','blue'), lty=1, cex=0.8)"
   ]
  },
  {
   "cell_type": "code",
   "execution_count": null,
   "metadata": {},
   "outputs": [],
   "source": []
  },
  {
   "cell_type": "code",
   "execution_count": 42,
   "metadata": {
    "collapsed": true
   },
   "outputs": [
    {
     "data": {
      "text/html": [
       "<dl class=dl-horizontal>\n",
       "\t<dt>X34</dt>\n",
       "\t\t<dd>0.349092500114607</dd>\n",
       "\t<dt>X27</dt>\n",
       "\t\t<dd>0.512394894838251</dd>\n",
       "\t<dt>X10</dt>\n",
       "\t\t<dd>-0.178377425985635</dd>\n",
       "\t<dt>X16</dt>\n",
       "\t\t<dd>-0.460578445013162</dd>\n",
       "\t<dt>X9</dt>\n",
       "\t\t<dd>0.278598937201871</dd>\n",
       "\t<dt>X44</dt>\n",
       "\t\t<dd>0.0421099092571776</dd>\n",
       "\t<dt>X7</dt>\n",
       "\t\t<dd>-0.0112867169681701</dd>\n",
       "\t<dt>X4</dt>\n",
       "\t\t<dd>-0.139229236904302</dd>\n",
       "\t<dt>X33</dt>\n",
       "\t\t<dd>0.0732261449143631</dd>\n",
       "\t<dt>X3</dt>\n",
       "\t\t<dd>-0.615897308968288</dd>\n",
       "\t<dt>X30</dt>\n",
       "\t\t<dd>-0.606480524176695</dd>\n",
       "\t<dt>X49</dt>\n",
       "\t\t<dd>-0.193611071358945</dd>\n",
       "\t<dt>X23</dt>\n",
       "\t\t<dd>0.59158422700841</dd>\n",
       "\t<dt>X47</dt>\n",
       "\t\t<dd>0.231397635468982</dd>\n",
       "\t<dt>X18</dt>\n",
       "\t\t<dd>-0.0674387544865582</dd>\n",
       "\t<dt>X20</dt>\n",
       "\t\t<dd>-0.681154768251257</dd>\n",
       "\t<dt>X17</dt>\n",
       "\t\t<dd>-0.308489852171138</dd>\n",
       "</dl>\n"
      ],
      "text/latex": [
       "\\begin{description*}\n",
       "\\item[X34] 0.349092500114607\n",
       "\\item[X27] 0.512394894838251\n",
       "\\item[X10] -0.178377425985635\n",
       "\\item[X16] -0.460578445013162\n",
       "\\item[X9] 0.278598937201871\n",
       "\\item[X44] 0.0421099092571776\n",
       "\\item[X7] -0.0112867169681701\n",
       "\\item[X4] -0.139229236904302\n",
       "\\item[X33] 0.0732261449143631\n",
       "\\item[X3] -0.615897308968288\n",
       "\\item[X30] -0.606480524176695\n",
       "\\item[X49] -0.193611071358945\n",
       "\\item[X23] 0.59158422700841\n",
       "\\item[X47] 0.231397635468982\n",
       "\\item[X18] -0.0674387544865582\n",
       "\\item[X20] -0.681154768251257\n",
       "\\item[X17] -0.308489852171138\n",
       "\\end{description*}\n"
      ],
      "text/markdown": [
       "X34\n",
       ":   0.349092500114607X27\n",
       ":   0.512394894838251X10\n",
       ":   -0.178377425985635X16\n",
       ":   -0.460578445013162X9\n",
       ":   0.278598937201871X44\n",
       ":   0.0421099092571776X7\n",
       ":   -0.0112867169681701X4\n",
       ":   -0.139229236904302X33\n",
       ":   0.0732261449143631X3\n",
       ":   -0.615897308968288X30\n",
       ":   -0.606480524176695X49\n",
       ":   -0.193611071358945X23\n",
       ":   0.59158422700841X47\n",
       ":   0.231397635468982X18\n",
       ":   -0.0674387544865582X20\n",
       ":   -0.681154768251257X17\n",
       ":   -0.308489852171138\n",
       "\n"
      ],
      "text/plain": [
       "        X34         X27         X10         X16          X9         X44 \n",
       " 0.34909250  0.51239489 -0.17837743 -0.46057845  0.27859894  0.04210991 \n",
       "         X7          X4         X33          X3         X30         X49 \n",
       "-0.01128672 -0.13922924  0.07322614 -0.61589731 -0.60648052 -0.19361107 \n",
       "        X23         X47         X18         X20         X17 \n",
       " 0.59158423  0.23139764 -0.06743875 -0.68115477 -0.30848985 "
      ]
     },
     "metadata": {},
     "output_type": "display_data"
    },
    {
     "data": {
      "text/html": [
       "<dl class=dl-horizontal>\n",
       "\t<dt>X34</dt>\n",
       "\t\t<dd>1.41778032911965</dd>\n",
       "\t<dt>X27</dt>\n",
       "\t\t<dd>1.66928417170408</dd>\n",
       "\t<dt>X10</dt>\n",
       "\t\t<dd>0.836626599273545</dd>\n",
       "\t<dt>X16</dt>\n",
       "\t\t<dd>0.630918588223253</dd>\n",
       "\t<dt>X9</dt>\n",
       "\t\t<dd>1.32127732241067</dd>\n",
       "\t<dt>X44</dt>\n",
       "\t\t<dd>1.04300910880757</dd>\n",
       "\t<dt>X7</dt>\n",
       "\t\t<dd>0.988776739060667</dd>\n",
       "\t<dt>X4</dt>\n",
       "\t\t<dd>0.870028562942273</dd>\n",
       "\t<dt>X33</dt>\n",
       "\t\t<dd>1.07597383541417</dd>\n",
       "\t<dt>X3</dt>\n",
       "\t\t<dd>0.540155990972373</dd>\n",
       "\t<dt>X30</dt>\n",
       "\t\t<dd>0.545266548437969</dd>\n",
       "\t<dt>X49</dt>\n",
       "\t\t<dd>0.823978310721563</dd>\n",
       "\t<dt>X23</dt>\n",
       "\t\t<dd>1.80684860756703</dd>\n",
       "\t<dt>X47</dt>\n",
       "\t\t<dd>1.26036030378263</dd>\n",
       "\t<dt>X18</dt>\n",
       "\t\t<dd>0.934784970248329</dd>\n",
       "\t<dt>X20</dt>\n",
       "\t\t<dd>0.506032304801549</dd>\n",
       "\t<dt>X17</dt>\n",
       "\t\t<dd>0.734555406303901</dd>\n",
       "</dl>\n"
      ],
      "text/latex": [
       "\\begin{description*}\n",
       "\\item[X34] 1.41778032911965\n",
       "\\item[X27] 1.66928417170408\n",
       "\\item[X10] 0.836626599273545\n",
       "\\item[X16] 0.630918588223253\n",
       "\\item[X9] 1.32127732241067\n",
       "\\item[X44] 1.04300910880757\n",
       "\\item[X7] 0.988776739060667\n",
       "\\item[X4] 0.870028562942273\n",
       "\\item[X33] 1.07597383541417\n",
       "\\item[X3] 0.540155990972373\n",
       "\\item[X30] 0.545266548437969\n",
       "\\item[X49] 0.823978310721563\n",
       "\\item[X23] 1.80684860756703\n",
       "\\item[X47] 1.26036030378263\n",
       "\\item[X18] 0.934784970248329\n",
       "\\item[X20] 0.506032304801549\n",
       "\\item[X17] 0.734555406303901\n",
       "\\end{description*}\n"
      ],
      "text/markdown": [
       "X34\n",
       ":   1.41778032911965X27\n",
       ":   1.66928417170408X10\n",
       ":   0.836626599273545X16\n",
       ":   0.630918588223253X9\n",
       ":   1.32127732241067X44\n",
       ":   1.04300910880757X7\n",
       ":   0.988776739060667X4\n",
       ":   0.870028562942273X33\n",
       ":   1.07597383541417X3\n",
       ":   0.540155990972373X30\n",
       ":   0.545266548437969X49\n",
       ":   0.823978310721563X23\n",
       ":   1.80684860756703X47\n",
       ":   1.26036030378263X18\n",
       ":   0.934784970248329X20\n",
       ":   0.506032304801549X17\n",
       ":   0.734555406303901\n",
       "\n"
      ],
      "text/plain": [
       "      X34       X27       X10       X16        X9       X44        X7        X4 \n",
       "1.4177803 1.6692842 0.8366266 0.6309186 1.3212773 1.0430091 0.9887767 0.8700286 \n",
       "      X33        X3       X30       X49       X23       X47       X18       X20 \n",
       "1.0759738 0.5401560 0.5452665 0.8239783 1.8068486 1.2603603 0.9347850 0.5060323 \n",
       "      X17 \n",
       "0.7345554 "
      ]
     },
     "metadata": {},
     "output_type": "display_data"
    },
    {
     "data": {
      "text/html": [
       "<table>\n",
       "<thead><tr><th></th><th scope=col>TGFBI</th></tr></thead>\n",
       "<tbody>\n",
       "\t<tr><th scope=row>X34</th><td> 0.34909250</td></tr>\n",
       "\t<tr><th scope=row>X27</th><td> 0.51239489</td></tr>\n",
       "\t<tr><th scope=row>X10</th><td>-0.17837743</td></tr>\n",
       "\t<tr><th scope=row>X16</th><td>-0.46057845</td></tr>\n",
       "\t<tr><th scope=row>X9</th><td> 0.27859894</td></tr>\n",
       "\t<tr><th scope=row>X44</th><td> 0.04210991</td></tr>\n",
       "\t<tr><th scope=row>X7</th><td>-0.01128672</td></tr>\n",
       "\t<tr><th scope=row>X4</th><td>-0.13922924</td></tr>\n",
       "\t<tr><th scope=row>X33</th><td> 0.07322614</td></tr>\n",
       "\t<tr><th scope=row>X3</th><td>-0.61589731</td></tr>\n",
       "\t<tr><th scope=row>X30</th><td>-0.60648052</td></tr>\n",
       "\t<tr><th scope=row>X49</th><td>-0.19361107</td></tr>\n",
       "\t<tr><th scope=row>X23</th><td> 0.59158423</td></tr>\n",
       "\t<tr><th scope=row>X47</th><td> 0.23139764</td></tr>\n",
       "\t<tr><th scope=row>X18</th><td>-0.06743875</td></tr>\n",
       "\t<tr><th scope=row>X20</th><td>-0.68115477</td></tr>\n",
       "\t<tr><th scope=row>X17</th><td>-0.30848985</td></tr>\n",
       "</tbody>\n",
       "</table>\n"
      ],
      "text/latex": [
       "\\begin{tabular}{r|l}\n",
       "  & TGFBI\\\\\n",
       "\\hline\n",
       "\tX34 &  0.34909250\\\\\n",
       "\tX27 &  0.51239489\\\\\n",
       "\tX10 & -0.17837743\\\\\n",
       "\tX16 & -0.46057845\\\\\n",
       "\tX9 &  0.27859894\\\\\n",
       "\tX44 &  0.04210991\\\\\n",
       "\tX7 & -0.01128672\\\\\n",
       "\tX4 & -0.13922924\\\\\n",
       "\tX33 &  0.07322614\\\\\n",
       "\tX3 & -0.61589731\\\\\n",
       "\tX30 & -0.60648052\\\\\n",
       "\tX49 & -0.19361107\\\\\n",
       "\tX23 &  0.59158423\\\\\n",
       "\tX47 &  0.23139764\\\\\n",
       "\tX18 & -0.06743875\\\\\n",
       "\tX20 & -0.68115477\\\\\n",
       "\tX17 & -0.30848985\\\\\n",
       "\\end{tabular}\n"
      ],
      "text/markdown": [
       "\n",
       "| <!--/--> | TGFBI |\n",
       "|---|---|\n",
       "| X34 |  0.34909250 |\n",
       "| X27 |  0.51239489 |\n",
       "| X10 | -0.17837743 |\n",
       "| X16 | -0.46057845 |\n",
       "| X9 |  0.27859894 |\n",
       "| X44 |  0.04210991 |\n",
       "| X7 | -0.01128672 |\n",
       "| X4 | -0.13922924 |\n",
       "| X33 |  0.07322614 |\n",
       "| X3 | -0.61589731 |\n",
       "| X30 | -0.60648052 |\n",
       "| X49 | -0.19361107 |\n",
       "| X23 |  0.59158423 |\n",
       "| X47 |  0.23139764 |\n",
       "| X18 | -0.06743875 |\n",
       "| X20 | -0.68115477 |\n",
       "| X17 | -0.30848985 |\n",
       "\n"
      ],
      "text/plain": [
       "    TGFBI      \n",
       "X34  0.34909250\n",
       "X27  0.51239489\n",
       "X10 -0.17837743\n",
       "X16 -0.46057845\n",
       "X9   0.27859894\n",
       "X44  0.04210991\n",
       "X7  -0.01128672\n",
       "X4  -0.13922924\n",
       "X33  0.07322614\n",
       "X3  -0.61589731\n",
       "X30 -0.60648052\n",
       "X49 -0.19361107\n",
       "X23  0.59158423\n",
       "X47  0.23139764\n",
       "X18 -0.06743875\n",
       "X20 -0.68115477\n",
       "X17 -0.30848985"
      ]
     },
     "metadata": {},
     "output_type": "display_data"
    },
    {
     "data": {
      "text/html": [
       "<ol class=list-inline>\n",
       "\t<li>0.541944790168249</li>\n",
       "\t<li>0.779175093912788</li>\n",
       "\t<li>0.467223273573675</li>\n",
       "\t<li>0.352343385214039</li>\n",
       "\t<li>0.737881769969315</li>\n",
       "\t<li>0.582479842987757</li>\n",
       "\t<li>0.55219318302642</li>\n",
       "\t<li>0.485876965462796</li>\n",
       "\t<li>0.600889355057982</li>\n",
       "\t<li>0.301656020214614</li>\n",
       "\t<li>0.304510066919483</li>\n",
       "\t<li>0.46015969851224</li>\n",
       "\t<li>0.764247132132677</li>\n",
       "\t<li>0.703861994738104</li>\n",
       "\t<li>0.320936302682759</li>\n",
       "\t<li>0.28259927450156</li>\n",
       "\t<li>0.410220499626185</li>\n",
       "</ol>\n"
      ],
      "text/latex": [
       "\\begin{enumerate*}\n",
       "\\item 0.541944790168249\n",
       "\\item 0.779175093912788\n",
       "\\item 0.467223273573675\n",
       "\\item 0.352343385214039\n",
       "\\item 0.737881769969315\n",
       "\\item 0.582479842987757\n",
       "\\item 0.55219318302642\n",
       "\\item 0.485876965462796\n",
       "\\item 0.600889355057982\n",
       "\\item 0.301656020214614\n",
       "\\item 0.304510066919483\n",
       "\\item 0.46015969851224\n",
       "\\item 0.764247132132677\n",
       "\\item 0.703861994738104\n",
       "\\item 0.320936302682759\n",
       "\\item 0.28259927450156\n",
       "\\item 0.410220499626185\n",
       "\\end{enumerate*}\n"
      ],
      "text/markdown": [
       "1. 0.541944790168249\n",
       "2. 0.779175093912788\n",
       "3. 0.467223273573675\n",
       "4. 0.352343385214039\n",
       "5. 0.737881769969315\n",
       "6. 0.582479842987757\n",
       "7. 0.55219318302642\n",
       "8. 0.485876965462796\n",
       "9. 0.600889355057982\n",
       "10. 0.301656020214614\n",
       "11. 0.304510066919483\n",
       "12. 0.46015969851224\n",
       "13. 0.764247132132677\n",
       "14. 0.703861994738104\n",
       "15. 0.320936302682759\n",
       "16. 0.28259927450156\n",
       "17. 0.410220499626185\n",
       "\n",
       "\n"
      ],
      "text/plain": [
       " [1] 0.5419448 0.7791751 0.4672233 0.3523434 0.7378818 0.5824798 0.5521932\n",
       " [8] 0.4858770 0.6008894 0.3016560 0.3045101 0.4601597 0.7642471 0.7038620\n",
       "[15] 0.3209363 0.2825993 0.4102205"
      ]
     },
     "metadata": {},
     "output_type": "display_data"
    }
   ],
   "source": [
    "predict(res.cox.death,newdata = j2[u[c(3,4:5)]],type = \"lp\")\n",
    "predict(res.cox.death,newdata = j2[u[c(3,4:5)]],type = \"risk\")\n",
    "predict(res.cox.death,newdata = j2[u[c(3,4:5)]],type = \"terms\")\n",
    "predict(res.cox.death,newdata = j2[u[c(3,4:5)]],type = \"expected\")"
   ]
  },
  {
   "cell_type": "code",
   "execution_count": null,
   "metadata": {},
   "outputs": [],
   "source": []
  },
  {
   "cell_type": "code",
   "execution_count": null,
   "metadata": {},
   "outputs": [],
   "source": []
  },
  {
   "cell_type": "code",
   "execution_count": null,
   "metadata": {},
   "outputs": [],
   "source": []
  },
  {
   "cell_type": "code",
   "execution_count": null,
   "metadata": {},
   "outputs": [],
   "source": []
  },
  {
   "cell_type": "code",
   "execution_count": null,
   "metadata": {},
   "outputs": [],
   "source": []
  },
  {
   "cell_type": "code",
   "execution_count": null,
   "metadata": {},
   "outputs": [],
   "source": []
  },
  {
   "cell_type": "code",
   "execution_count": null,
   "metadata": {},
   "outputs": [],
   "source": []
  }
 ],
 "metadata": {
  "kernelspec": {
   "display_name": "R 3.4",
   "language": "R",
   "name": "ir32"
  },
  "language_info": {
   "codemirror_mode": "r",
   "file_extension": ".r",
   "mimetype": "text/x-r-source",
   "name": "R",
   "pygments_lexer": "r",
   "version": "3.4.4"
  }
 },
 "nbformat": 4,
 "nbformat_minor": 2
}
